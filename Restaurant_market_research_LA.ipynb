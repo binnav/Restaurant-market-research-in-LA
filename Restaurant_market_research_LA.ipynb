{
 "cells": [
  {
   "cell_type": "markdown",
   "metadata": {},
   "source": [
    "# Restaurants market research in Los Angeles."
   ]
  },
  {
   "cell_type": "markdown",
   "metadata": {},
   "source": [
    "You’ve decided to open a small robot-run cafe in Los Angeles. The project is promising but expensive, so you and your partners decide to try to attract investors. They’re interested in the current market conditions - will you be able to maintain your success when the novelty of robot waiters wears off?\n",
    "Your partners have asked you to prepare some market research. You have open-source data on restaurants in LA."
   ]
  },
  {
   "cell_type": "markdown",
   "metadata": {},
   "source": [
    "### Table of content <a class=\"anchor\" id=\"table_of_contents\"></a> \n",
    "1. [Opening data](#start)\n",
    "2. [Preprocessing data](#preprocessing)\n",
    "    * [Processing missing values](#null)\n",
    "    * [Processing duplicate data](#duplicates) \n",
    "    \n",
    "3. [Data analysis](#analysis)\n",
    "    * [Proportions of the various types of establishments](#proportions)\n",
    "    * [Proportions of chain and nonchain establishments](#chain)\n",
    "    * [Chains analysis](#chains)\n",
    "    * [Number of seats](#seats)\n",
    "    * [Streets analysis](#streets)\n",
    "    \n",
    "4. [Conclusion](#conclusion)\n",
    "5. [Presentation](#presentation)\n",
    "    "
   ]
  },
  {
   "cell_type": "markdown",
   "metadata": {},
   "source": [
    "### Opening data <a id=\"start\"></a> "
   ]
  },
  {
   "cell_type": "markdown",
   "metadata": {},
   "source": [
    "### Need To Install <a class=\"anchor\" id=\"install\"></a>"
   ]
  },
  {
   "cell_type": "code",
   "execution_count": 1,
   "metadata": {},
   "outputs": [
    {
     "name": "stdout",
     "output_type": "stream",
     "text": [
      "Requirement already up-to-date: seaborn in c:\\ainna\\anaconda\\lib\\site-packages (0.11.1)\n",
      "Requirement already satisfied, skipping upgrade: matplotlib>=2.2 in c:\\ainna\\anaconda\\lib\\site-packages (from seaborn) (3.1.3)\n",
      "Requirement already satisfied, skipping upgrade: pandas>=0.23 in c:\\ainna\\anaconda\\lib\\site-packages (from seaborn) (1.0.1)\n",
      "Requirement already satisfied, skipping upgrade: numpy>=1.15 in c:\\ainna\\anaconda\\lib\\site-packages (from seaborn) (1.18.1)\n",
      "Requirement already satisfied, skipping upgrade: scipy>=1.0 in c:\\ainna\\anaconda\\lib\\site-packages (from seaborn) (1.4.1)\n",
      "Requirement already satisfied, skipping upgrade: cycler>=0.10 in c:\\ainna\\anaconda\\lib\\site-packages (from matplotlib>=2.2->seaborn) (0.10.0)\n",
      "Requirement already satisfied, skipping upgrade: python-dateutil>=2.1 in c:\\ainna\\anaconda\\lib\\site-packages (from matplotlib>=2.2->seaborn) (2.8.1)\n",
      "Requirement already satisfied, skipping upgrade: kiwisolver>=1.0.1 in c:\\ainna\\anaconda\\lib\\site-packages (from matplotlib>=2.2->seaborn) (1.1.0)\n",
      "Requirement already satisfied, skipping upgrade: pyparsing!=2.0.4,!=2.1.2,!=2.1.6,>=2.0.1 in c:\\ainna\\anaconda\\lib\\site-packages (from matplotlib>=2.2->seaborn) (2.4.6)\n",
      "Requirement already satisfied, skipping upgrade: pytz>=2017.2 in c:\\ainna\\anaconda\\lib\\site-packages (from pandas>=0.23->seaborn) (2019.3)\n",
      "Requirement already satisfied, skipping upgrade: six in c:\\ainna\\anaconda\\lib\\site-packages (from cycler>=0.10->matplotlib>=2.2->seaborn) (1.14.0)\n",
      "Requirement already satisfied, skipping upgrade: setuptools in c:\\ainna\\anaconda\\lib\\site-packages (from kiwisolver>=1.0.1->matplotlib>=2.2->seaborn) (45.2.0.post20200210)\n",
      "Note: you may need to restart the kernel to use updated packages.\n"
     ]
    }
   ],
   "source": [
    "pip install seaborn -U"
   ]
  },
  {
   "cell_type": "code",
   "execution_count": 2,
   "metadata": {},
   "outputs": [],
   "source": [
    "# import libraries \n",
    "import pandas as pd\n",
    "import numpy as np\n",
    "import matplotlib.pyplot as plt\n",
    "import seaborn as sns\n",
    "import re\n",
    "import matplotlib.patches as mpatches\n",
    "from matplotlib import ticker\n",
    "from matplotlib.ticker import PercentFormatter\n",
    "import sys\n",
    "import warnings\n",
    "if not sys.warnoptions:\n",
    "       warnings.simplefilter(\"ignore\")"
   ]
  },
  {
   "cell_type": "code",
   "execution_count": 3,
   "metadata": {},
   "outputs": [
    {
     "data": {
      "text/html": [
       "<div>\n",
       "<style scoped>\n",
       "    .dataframe tbody tr th:only-of-type {\n",
       "        vertical-align: middle;\n",
       "    }\n",
       "\n",
       "    .dataframe tbody tr th {\n",
       "        vertical-align: top;\n",
       "    }\n",
       "\n",
       "    .dataframe thead th {\n",
       "        text-align: right;\n",
       "    }\n",
       "</style>\n",
       "<table border=\"1\" class=\"dataframe\">\n",
       "  <thead>\n",
       "    <tr style=\"text-align: right;\">\n",
       "      <th></th>\n",
       "      <th>id</th>\n",
       "      <th>object_name</th>\n",
       "      <th>address</th>\n",
       "      <th>chain</th>\n",
       "      <th>object_type</th>\n",
       "      <th>number</th>\n",
       "    </tr>\n",
       "  </thead>\n",
       "  <tbody>\n",
       "    <tr>\n",
       "      <th>0</th>\n",
       "      <td>11786</td>\n",
       "      <td>HABITAT COFFEE SHOP</td>\n",
       "      <td>3708 N EAGLE ROCK BLVD</td>\n",
       "      <td>False</td>\n",
       "      <td>Cafe</td>\n",
       "      <td>26</td>\n",
       "    </tr>\n",
       "    <tr>\n",
       "      <th>1</th>\n",
       "      <td>11787</td>\n",
       "      <td>REILLY'S</td>\n",
       "      <td>100 WORLD WAY # 120</td>\n",
       "      <td>False</td>\n",
       "      <td>Restaurant</td>\n",
       "      <td>9</td>\n",
       "    </tr>\n",
       "    <tr>\n",
       "      <th>2</th>\n",
       "      <td>11788</td>\n",
       "      <td>STREET CHURROS</td>\n",
       "      <td>6801 HOLLYWOOD BLVD # 253</td>\n",
       "      <td>False</td>\n",
       "      <td>Fast Food</td>\n",
       "      <td>20</td>\n",
       "    </tr>\n",
       "    <tr>\n",
       "      <th>3</th>\n",
       "      <td>11789</td>\n",
       "      <td>TRINITI ECHO PARK</td>\n",
       "      <td>1814 W SUNSET BLVD</td>\n",
       "      <td>False</td>\n",
       "      <td>Restaurant</td>\n",
       "      <td>22</td>\n",
       "    </tr>\n",
       "    <tr>\n",
       "      <th>4</th>\n",
       "      <td>11790</td>\n",
       "      <td>POLLEN</td>\n",
       "      <td>2100 ECHO PARK AVE</td>\n",
       "      <td>False</td>\n",
       "      <td>Restaurant</td>\n",
       "      <td>20</td>\n",
       "    </tr>\n",
       "  </tbody>\n",
       "</table>\n",
       "</div>"
      ],
      "text/plain": [
       "      id          object_name                    address  chain object_type  \\\n",
       "0  11786  HABITAT COFFEE SHOP     3708 N EAGLE ROCK BLVD  False        Cafe   \n",
       "1  11787             REILLY'S        100 WORLD WAY # 120  False  Restaurant   \n",
       "2  11788       STREET CHURROS  6801 HOLLYWOOD BLVD # 253  False   Fast Food   \n",
       "3  11789    TRINITI ECHO PARK         1814 W SUNSET BLVD  False  Restaurant   \n",
       "4  11790               POLLEN         2100 ECHO PARK AVE  False  Restaurant   \n",
       "\n",
       "   number  \n",
       "0      26  \n",
       "1       9  \n",
       "2      20  \n",
       "3      22  \n",
       "4      20  "
      ]
     },
     "execution_count": 3,
     "metadata": {},
     "output_type": "execute_result"
    }
   ],
   "source": [
    "# open file\n",
    "path = 'https://code.s3.yandex.net/datasets/'\n",
    "name = 'rest_data_us.csv'\n",
    "data = pd.read_csv(path + name) \n",
    "data.head()"
   ]
  },
  {
   "cell_type": "markdown",
   "metadata": {},
   "source": [
    "### Preprocessing data <a id=\"preprocessing\"></a> "
   ]
  },
  {
   "cell_type": "code",
   "execution_count": 4,
   "metadata": {},
   "outputs": [
    {
     "name": "stdout",
     "output_type": "stream",
     "text": [
      "<class 'pandas.core.frame.DataFrame'>\n",
      "RangeIndex: 9651 entries, 0 to 9650\n",
      "Data columns (total 6 columns):\n",
      " #   Column       Non-Null Count  Dtype \n",
      "---  ------       --------------  ----- \n",
      " 0   id           9651 non-null   int64 \n",
      " 1   object_name  9651 non-null   object\n",
      " 2   address      9651 non-null   object\n",
      " 3   chain        9648 non-null   object\n",
      " 4   object_type  9651 non-null   object\n",
      " 5   number       9651 non-null   int64 \n",
      "dtypes: int64(2), object(4)\n",
      "memory usage: 452.5+ KB\n"
     ]
    }
   ],
   "source": [
    "# have a look at file info\n",
    "data.info()"
   ]
  },
  {
   "cell_type": "markdown",
   "metadata": {},
   "source": [
    "There are 3 missing values in the column 'chain'. These establishments we can check manually whether they are chains or not."
   ]
  },
  {
   "cell_type": "markdown",
   "metadata": {},
   "source": [
    "#### Processing missing values <a id=\"null\"></a> "
   ]
  },
  {
   "cell_type": "code",
   "execution_count": 5,
   "metadata": {},
   "outputs": [
    {
     "data": {
      "text/html": [
       "<div>\n",
       "<style scoped>\n",
       "    .dataframe tbody tr th:only-of-type {\n",
       "        vertical-align: middle;\n",
       "    }\n",
       "\n",
       "    .dataframe tbody tr th {\n",
       "        vertical-align: top;\n",
       "    }\n",
       "\n",
       "    .dataframe thead th {\n",
       "        text-align: right;\n",
       "    }\n",
       "</style>\n",
       "<table border=\"1\" class=\"dataframe\">\n",
       "  <thead>\n",
       "    <tr style=\"text-align: right;\">\n",
       "      <th></th>\n",
       "      <th>id</th>\n",
       "      <th>object_name</th>\n",
       "      <th>address</th>\n",
       "      <th>chain</th>\n",
       "      <th>object_type</th>\n",
       "      <th>number</th>\n",
       "    </tr>\n",
       "  </thead>\n",
       "  <tbody>\n",
       "    <tr>\n",
       "      <th>7408</th>\n",
       "      <td>19194</td>\n",
       "      <td>TAQUERIA LOS 3 CARNALES</td>\n",
       "      <td>5000 E WHITTIER BLVD</td>\n",
       "      <td>NaN</td>\n",
       "      <td>Restaurant</td>\n",
       "      <td>14</td>\n",
       "    </tr>\n",
       "    <tr>\n",
       "      <th>7523</th>\n",
       "      <td>19309</td>\n",
       "      <td>JAMMIN JIMMY'S PIZZA</td>\n",
       "      <td>1641 FIRESTONE BLVD</td>\n",
       "      <td>NaN</td>\n",
       "      <td>Pizza</td>\n",
       "      <td>1</td>\n",
       "    </tr>\n",
       "    <tr>\n",
       "      <th>8648</th>\n",
       "      <td>20434</td>\n",
       "      <td>THE LEXINGTON THEATER</td>\n",
       "      <td>129 E 3RD ST</td>\n",
       "      <td>NaN</td>\n",
       "      <td>Restaurant</td>\n",
       "      <td>35</td>\n",
       "    </tr>\n",
       "  </tbody>\n",
       "</table>\n",
       "</div>"
      ],
      "text/plain": [
       "         id              object_name               address chain object_type  \\\n",
       "7408  19194  TAQUERIA LOS 3 CARNALES  5000 E WHITTIER BLVD   NaN  Restaurant   \n",
       "7523  19309     JAMMIN JIMMY'S PIZZA   1641 FIRESTONE BLVD   NaN       Pizza   \n",
       "8648  20434    THE LEXINGTON THEATER          129 E 3RD ST   NaN  Restaurant   \n",
       "\n",
       "      number  \n",
       "7408      14  \n",
       "7523       1  \n",
       "8648      35  "
      ]
     },
     "execution_count": 5,
     "metadata": {},
     "output_type": "execute_result"
    }
   ],
   "source": [
    "# show rows with missing values \n",
    "data[data['chain'].isnull()]"
   ]
  },
  {
   "cell_type": "code",
   "execution_count": 6,
   "metadata": {},
   "outputs": [
    {
     "data": {
      "text/plain": [
       "['TAQUERIA LOS 3 CARNALES', \"JAMMIN JIMMY'S PIZZA\", 'THE LEXINGTON THEATER']"
      ]
     },
     "execution_count": 6,
     "metadata": {},
     "output_type": "execute_result"
    }
   ],
   "source": [
    "# create a list with establishment's names with missing values\n",
    "missing = data[data['chain'].isnull()]['object_name'].tolist()\n",
    "missing"
   ]
  },
  {
   "cell_type": "code",
   "execution_count": 7,
   "metadata": {},
   "outputs": [
    {
     "data": {
      "text/html": [
       "<div>\n",
       "<style scoped>\n",
       "    .dataframe tbody tr th:only-of-type {\n",
       "        vertical-align: middle;\n",
       "    }\n",
       "\n",
       "    .dataframe tbody tr th {\n",
       "        vertical-align: top;\n",
       "    }\n",
       "\n",
       "    .dataframe thead th {\n",
       "        text-align: right;\n",
       "    }\n",
       "</style>\n",
       "<table border=\"1\" class=\"dataframe\">\n",
       "  <thead>\n",
       "    <tr style=\"text-align: right;\">\n",
       "      <th></th>\n",
       "      <th>id</th>\n",
       "      <th>object_name</th>\n",
       "      <th>address</th>\n",
       "      <th>chain</th>\n",
       "      <th>object_type</th>\n",
       "      <th>number</th>\n",
       "    </tr>\n",
       "  </thead>\n",
       "  <tbody>\n",
       "    <tr>\n",
       "      <th>7408</th>\n",
       "      <td>19194</td>\n",
       "      <td>TAQUERIA LOS 3 CARNALES</td>\n",
       "      <td>5000 E WHITTIER BLVD</td>\n",
       "      <td>NaN</td>\n",
       "      <td>Restaurant</td>\n",
       "      <td>14</td>\n",
       "    </tr>\n",
       "    <tr>\n",
       "      <th>7523</th>\n",
       "      <td>19309</td>\n",
       "      <td>JAMMIN JIMMY'S PIZZA</td>\n",
       "      <td>1641 FIRESTONE BLVD</td>\n",
       "      <td>NaN</td>\n",
       "      <td>Pizza</td>\n",
       "      <td>1</td>\n",
       "    </tr>\n",
       "    <tr>\n",
       "      <th>8648</th>\n",
       "      <td>20434</td>\n",
       "      <td>THE LEXINGTON THEATER</td>\n",
       "      <td>129 E 3RD ST</td>\n",
       "      <td>NaN</td>\n",
       "      <td>Restaurant</td>\n",
       "      <td>35</td>\n",
       "    </tr>\n",
       "  </tbody>\n",
       "</table>\n",
       "</div>"
      ],
      "text/plain": [
       "         id              object_name               address chain object_type  \\\n",
       "7408  19194  TAQUERIA LOS 3 CARNALES  5000 E WHITTIER BLVD   NaN  Restaurant   \n",
       "7523  19309     JAMMIN JIMMY'S PIZZA   1641 FIRESTONE BLVD   NaN       Pizza   \n",
       "8648  20434    THE LEXINGTON THEATER          129 E 3RD ST   NaN  Restaurant   \n",
       "\n",
       "      number  \n",
       "7408      14  \n",
       "7523       1  \n",
       "8648      35  "
      ]
     },
     "execution_count": 7,
     "metadata": {},
     "output_type": "execute_result"
    }
   ],
   "source": [
    "# check if there are other rows with the same establishments names\n",
    "data.query('object_name in @missing')"
   ]
  },
  {
   "cell_type": "markdown",
   "metadata": {},
   "source": [
    "We should check if there are the same establishments but with different name spelling."
   ]
  },
  {
   "cell_type": "code",
   "execution_count": 8,
   "metadata": {},
   "outputs": [
    {
     "data": {
      "text/html": [
       "<div>\n",
       "<style scoped>\n",
       "    .dataframe tbody tr th:only-of-type {\n",
       "        vertical-align: middle;\n",
       "    }\n",
       "\n",
       "    .dataframe tbody tr th {\n",
       "        vertical-align: top;\n",
       "    }\n",
       "\n",
       "    .dataframe thead th {\n",
       "        text-align: right;\n",
       "    }\n",
       "</style>\n",
       "<table border=\"1\" class=\"dataframe\">\n",
       "  <thead>\n",
       "    <tr style=\"text-align: right;\">\n",
       "      <th></th>\n",
       "      <th>id</th>\n",
       "      <th>object_name</th>\n",
       "      <th>address</th>\n",
       "      <th>chain</th>\n",
       "      <th>object_type</th>\n",
       "      <th>number</th>\n",
       "    </tr>\n",
       "  </thead>\n",
       "  <tbody>\n",
       "    <tr>\n",
       "      <th>6790</th>\n",
       "      <td>18576</td>\n",
       "      <td>WI JAMMIN CAFE</td>\n",
       "      <td>1359 S REDONDO BLVD</td>\n",
       "      <td>False</td>\n",
       "      <td>Restaurant</td>\n",
       "      <td>28</td>\n",
       "    </tr>\n",
       "    <tr>\n",
       "      <th>7523</th>\n",
       "      <td>19309</td>\n",
       "      <td>JAMMIN JIMMY'S PIZZA</td>\n",
       "      <td>1641 FIRESTONE BLVD</td>\n",
       "      <td>NaN</td>\n",
       "      <td>Pizza</td>\n",
       "      <td>1</td>\n",
       "    </tr>\n",
       "  </tbody>\n",
       "</table>\n",
       "</div>"
      ],
      "text/plain": [
       "         id           object_name              address  chain object_type  \\\n",
       "6790  18576        WI JAMMIN CAFE  1359 S REDONDO BLVD  False  Restaurant   \n",
       "7523  19309  JAMMIN JIMMY'S PIZZA  1641 FIRESTONE BLVD    NaN       Pizza   \n",
       "\n",
       "      number  \n",
       "6790      28  \n",
       "7523       1  "
      ]
     },
     "execution_count": 8,
     "metadata": {},
     "output_type": "execute_result"
    }
   ],
   "source": [
    "# check JAMMIN JIMMY'S PIZZA\n",
    "data[data[\"object_name\"].str.contains(\"JAMMIN|JIMMY'S\")]"
   ]
  },
  {
   "cell_type": "markdown",
   "metadata": {},
   "source": [
    "JAMMIN JIMMY'S PIZZA doesn't have other establishments so this is not a chain. And the restaurant in the Lexington theater definitely not a chain. We can replace missing values by \"False\". "
   ]
  },
  {
   "cell_type": "code",
   "execution_count": 9,
   "metadata": {},
   "outputs": [
    {
     "data": {
      "text/html": [
       "<div>\n",
       "<style scoped>\n",
       "    .dataframe tbody tr th:only-of-type {\n",
       "        vertical-align: middle;\n",
       "    }\n",
       "\n",
       "    .dataframe tbody tr th {\n",
       "        vertical-align: top;\n",
       "    }\n",
       "\n",
       "    .dataframe thead th {\n",
       "        text-align: right;\n",
       "    }\n",
       "</style>\n",
       "<table border=\"1\" class=\"dataframe\">\n",
       "  <thead>\n",
       "    <tr style=\"text-align: right;\">\n",
       "      <th></th>\n",
       "      <th>id</th>\n",
       "      <th>object_name</th>\n",
       "      <th>address</th>\n",
       "      <th>chain</th>\n",
       "      <th>object_type</th>\n",
       "      <th>number</th>\n",
       "    </tr>\n",
       "  </thead>\n",
       "  <tbody>\n",
       "    <tr>\n",
       "      <th>6419</th>\n",
       "      <td>18205</td>\n",
       "      <td>TACOS LOS CARNALES</td>\n",
       "      <td>4370 S CENTRAL AVE</td>\n",
       "      <td>False</td>\n",
       "      <td>Fast Food</td>\n",
       "      <td>47</td>\n",
       "    </tr>\n",
       "    <tr>\n",
       "      <th>6624</th>\n",
       "      <td>18410</td>\n",
       "      <td>TACOS LOS 3 CARNALES</td>\n",
       "      <td>5000 WHITTIER BLVD</td>\n",
       "      <td>False</td>\n",
       "      <td>Fast Food</td>\n",
       "      <td>6</td>\n",
       "    </tr>\n",
       "    <tr>\n",
       "      <th>7408</th>\n",
       "      <td>19194</td>\n",
       "      <td>TAQUERIA LOS 3 CARNALES</td>\n",
       "      <td>5000 E WHITTIER BLVD</td>\n",
       "      <td>NaN</td>\n",
       "      <td>Restaurant</td>\n",
       "      <td>14</td>\n",
       "    </tr>\n",
       "    <tr>\n",
       "      <th>9616</th>\n",
       "      <td>21402</td>\n",
       "      <td>TACOS LOS 4 CARNALES</td>\n",
       "      <td>5000 WHITTIER BLVD</td>\n",
       "      <td>False</td>\n",
       "      <td>Fast Food</td>\n",
       "      <td>9</td>\n",
       "    </tr>\n",
       "  </tbody>\n",
       "</table>\n",
       "</div>"
      ],
      "text/plain": [
       "         id              object_name               address  chain object_type  \\\n",
       "6419  18205       TACOS LOS CARNALES    4370 S CENTRAL AVE  False   Fast Food   \n",
       "6624  18410     TACOS LOS 3 CARNALES    5000 WHITTIER BLVD  False   Fast Food   \n",
       "7408  19194  TAQUERIA LOS 3 CARNALES  5000 E WHITTIER BLVD    NaN  Restaurant   \n",
       "9616  21402     TACOS LOS 4 CARNALES    5000 WHITTIER BLVD  False   Fast Food   \n",
       "\n",
       "      number  \n",
       "6419      47  \n",
       "6624       6  \n",
       "7408      14  \n",
       "9616       9  "
      ]
     },
     "execution_count": 9,
     "metadata": {},
     "output_type": "execute_result"
    }
   ],
   "source": [
    "# check TAQUERIA LOS 3 CARNALES\n",
    "data[data[\"object_name\"].str.contains(\"CARNALES\")]"
   ]
  },
  {
   "cell_type": "markdown",
   "metadata": {},
   "source": [
    "We see three establishments with the same name (but in different wording: Tacos and Taqueria) located at the same address. The only difference is the number of places. We can assume (or check via Google as we have only 1 such case) that TAQUERIA LOS 3 CARNALES is a restaurant with 14 sitting places then we can delete two other rows and fillin missing value in chain column with False value."
   ]
  },
  {
   "cell_type": "code",
   "execution_count": 10,
   "metadata": {},
   "outputs": [
    {
     "data": {
      "text/html": [
       "<div>\n",
       "<style scoped>\n",
       "    .dataframe tbody tr th:only-of-type {\n",
       "        vertical-align: middle;\n",
       "    }\n",
       "\n",
       "    .dataframe tbody tr th {\n",
       "        vertical-align: top;\n",
       "    }\n",
       "\n",
       "    .dataframe thead th {\n",
       "        text-align: right;\n",
       "    }\n",
       "</style>\n",
       "<table border=\"1\" class=\"dataframe\">\n",
       "  <thead>\n",
       "    <tr style=\"text-align: right;\">\n",
       "      <th></th>\n",
       "      <th>id</th>\n",
       "      <th>object_name</th>\n",
       "      <th>address</th>\n",
       "      <th>chain</th>\n",
       "      <th>object_type</th>\n",
       "      <th>number</th>\n",
       "    </tr>\n",
       "  </thead>\n",
       "  <tbody>\n",
       "    <tr>\n",
       "      <th>7408</th>\n",
       "      <td>19194</td>\n",
       "      <td>TAQUERIA LOS 3 CARNALES</td>\n",
       "      <td>5000 E WHITTIER BLVD</td>\n",
       "      <td>False</td>\n",
       "      <td>Restaurant</td>\n",
       "      <td>14</td>\n",
       "    </tr>\n",
       "    <tr>\n",
       "      <th>7523</th>\n",
       "      <td>19309</td>\n",
       "      <td>JAMMIN JIMMY'S PIZZA</td>\n",
       "      <td>1641 FIRESTONE BLVD</td>\n",
       "      <td>False</td>\n",
       "      <td>Pizza</td>\n",
       "      <td>1</td>\n",
       "    </tr>\n",
       "    <tr>\n",
       "      <th>8648</th>\n",
       "      <td>20434</td>\n",
       "      <td>THE LEXINGTON THEATER</td>\n",
       "      <td>129 E 3RD ST</td>\n",
       "      <td>False</td>\n",
       "      <td>Restaurant</td>\n",
       "      <td>35</td>\n",
       "    </tr>\n",
       "  </tbody>\n",
       "</table>\n",
       "</div>"
      ],
      "text/plain": [
       "         id              object_name               address  chain object_type  \\\n",
       "7408  19194  TAQUERIA LOS 3 CARNALES  5000 E WHITTIER BLVD  False  Restaurant   \n",
       "7523  19309     JAMMIN JIMMY'S PIZZA   1641 FIRESTONE BLVD  False       Pizza   \n",
       "8648  20434    THE LEXINGTON THEATER          129 E 3RD ST  False  Restaurant   \n",
       "\n",
       "      number  \n",
       "7408      14  \n",
       "7523       1  \n",
       "8648      35  "
      ]
     },
     "execution_count": 10,
     "metadata": {},
     "output_type": "execute_result"
    }
   ],
   "source": [
    "# fill in missing values with False\n",
    "data['chain'] = data['chain'].fillna(False)\n",
    "\n",
    "# check\n",
    "data.query('object_name in @missing')"
   ]
  },
  {
   "cell_type": "markdown",
   "metadata": {},
   "source": [
    "#### Processing duplicate data <a id=\"duplicates\"></a> "
   ]
  },
  {
   "cell_type": "code",
   "execution_count": 11,
   "metadata": {},
   "outputs": [],
   "source": [
    "# delete two duplicated rows with indexes 6624 and 9616\n",
    "data = data.drop([data.index[6624], data.index[9616]]).reset_index(drop=True)\n"
   ]
  },
  {
   "cell_type": "code",
   "execution_count": 12,
   "metadata": {
    "scrolled": true
   },
   "outputs": [
    {
     "name": "stdout",
     "output_type": "stream",
     "text": [
      "['ABC DONUTS', 'EL POLLO LOCO', 'POONG NYUN BAKERY', 'EMC RESTAURANT GROUP LLC', 'CUSCATLECA BAKERY', 'FOOD COURT TRAY WASHING AREA', 'M CAFE DE CHAYA', \"NORM'S RESTAURANT\", 'KRISPY KRUNCHY CHICKEN - ALVARADO', 'DUNES RESTAURANT', 'ONO HAWAIIAN BBQ', 'MUSH BAKERY', \"REGGIE'S DELI & CAFE\", 'HOT THAI RESTAURANT', 'WABA GRILL', 'SUBWAY -52105', 'IHOP', 'PANDA EXPRESS #2596', 'LA MONARCA BAKERY', 'THE COUNTER SPACE 7C']\n"
     ]
    }
   ],
   "source": [
    "# check if there are chain type establishments with different name spelling\n",
    "chain_names_spelling = data.query('chain == True')['object_name'].unique().tolist()\n",
    "print(chain_names_spelling[:20])"
   ]
  },
  {
   "cell_type": "markdown",
   "metadata": {},
   "source": [
    "We see some \"big players\" with name wording differences, for instance: SUBWAY and SUBWAY SANDWICHES, STURBUCKS and STURBUCKS COFFEE, plus we have numbers of branches or special signs like in MACDONALD'S names. We should clean the data to avoid analyzing chain type establishments separately. Especially we should pay attention to Cafes since this is our main goal of LA market research."
   ]
  },
  {
   "cell_type": "code",
   "execution_count": 13,
   "metadata": {},
   "outputs": [],
   "source": [
    "# clean names of the market 'big players'\n",
    "data['object_name'] = data.object_name.str.replace(r'(^.*STARBUCKS.*$)', 'STARBUCKS')\n",
    "data['object_name'] = data.object_name.str.replace(r'(^.*COFFEE BEAN.*$)', 'THE COFFEE BEAN AND TEA LEAF')\n",
    "data['object_name'] = data.object_name.str.replace(r'(^.*PEET.*$)', \"PEET'S COFFEE AND TEA\")\n",
    "data['object_name'] = data.object_name.str.replace(r'(^.*RALPHS MARKET.*$)', \"RALPHS MARKET\")\n",
    "data['object_name'] = data.object_name.str.replace(r'(^.*MCDONALD.*$)', \"MCDONALD'S\")\n",
    "data['object_name'] = data.object_name.str.replace(r'(^.*SUBWAY.*$)', \"SUBWAY\")\n",
    "data['object_name'] = data.object_name.str.replace(r'(^.*YOSHINOYA.*$)', \"YOSHINOYA\")"
   ]
  },
  {
   "cell_type": "code",
   "execution_count": 14,
   "metadata": {},
   "outputs": [],
   "source": [
    "# delete branches' numbers\n",
    "data['object_name'] = data['object_name'].replace('[#0-9]+','',regex=True)"
   ]
  },
  {
   "cell_type": "code",
   "execution_count": 15,
   "metadata": {},
   "outputs": [],
   "source": [
    "# remove leading and trailing whitespaces from strings with object names\n",
    "data['object_name'] = data.object_name.str.replace(r'(^\\s+|\\s+$)',\"\")"
   ]
  },
  {
   "cell_type": "code",
   "execution_count": 16,
   "metadata": {
    "scrolled": true
   },
   "outputs": [
    {
     "name": "stdout",
     "output_type": "stream",
     "text": [
      "[\"ALANA'S COFFEE ROASTING\", 'ANDANTE COFFEE ROASTERS', 'ANDANTE COFFEE ROASTERS, INC', 'BLUE BOTTLE COFFEE', 'BOBA K-TOWN AND COFFEE', 'BRASIL KISS COFFEE BAR', 'BREAKROOM COFFEE AND FOOD, INC', 'COFFE TIME', 'COFFEE & FOOD', 'COFFEE COMMISSARY', 'COFFEE TIME', 'COFFEE TIMES DONUT', 'COGNOSCENTI COFFEE', 'CRAFT COFFEE AND GOOD FOOD CAFE', 'DRINK COFFEE + TEA', 'FRANCES BAKERY AND COFFEE', 'GROUNDWORK COFFEE', 'GROUNDWORK COFFEE -THE GROVE (KIOSK)', 'HEALING COFFEE ROASTERS', 'LOLLICUP TEA & COFFEE ZONE']\n"
     ]
    }
   ],
   "source": [
    "# check Cafe category\n",
    "cafe_spelling = data.query('chain == True & object_type == \"Cafe\"')['object_name'].sort_values(ascending=True).unique().tolist()\n",
    "print(cafe_spelling[:20])"
   ]
  },
  {
   "cell_type": "code",
   "execution_count": 17,
   "metadata": {},
   "outputs": [
    {
     "data": {
      "text/html": [
       "<div>\n",
       "<style scoped>\n",
       "    .dataframe tbody tr th:only-of-type {\n",
       "        vertical-align: middle;\n",
       "    }\n",
       "\n",
       "    .dataframe tbody tr th {\n",
       "        vertical-align: top;\n",
       "    }\n",
       "\n",
       "    .dataframe thead th {\n",
       "        text-align: right;\n",
       "    }\n",
       "</style>\n",
       "<table border=\"1\" class=\"dataframe\">\n",
       "  <thead>\n",
       "    <tr style=\"text-align: right;\">\n",
       "      <th></th>\n",
       "      <th>id</th>\n",
       "      <th>object_name</th>\n",
       "      <th>address</th>\n",
       "      <th>chain</th>\n",
       "      <th>object_type</th>\n",
       "      <th>number</th>\n",
       "    </tr>\n",
       "  </thead>\n",
       "  <tbody>\n",
       "    <tr>\n",
       "      <th>4948</th>\n",
       "      <td>16734</td>\n",
       "      <td>GROUNDWORK COFFEE</td>\n",
       "      <td>108 W 2ND ST</td>\n",
       "      <td>True</td>\n",
       "      <td>Cafe</td>\n",
       "      <td>29</td>\n",
       "    </tr>\n",
       "    <tr>\n",
       "      <th>5584</th>\n",
       "      <td>17370</td>\n",
       "      <td>GROUNDWORK COFFEE -THE GROVE (KIOSK)</td>\n",
       "      <td>189 THE GROVE DRIVE # K2</td>\n",
       "      <td>True</td>\n",
       "      <td>Cafe</td>\n",
       "      <td>10</td>\n",
       "    </tr>\n",
       "    <tr>\n",
       "      <th>7761</th>\n",
       "      <td>19548</td>\n",
       "      <td>GROUNDWORK</td>\n",
       "      <td>1501 N CAHUENGA BLVD</td>\n",
       "      <td>False</td>\n",
       "      <td>Restaurant</td>\n",
       "      <td>84</td>\n",
       "    </tr>\n",
       "    <tr>\n",
       "      <th>9347</th>\n",
       "      <td>21134</td>\n",
       "      <td>GROUNDWORK COFFEE</td>\n",
       "      <td>150 N LARCHMONT BLVD</td>\n",
       "      <td>True</td>\n",
       "      <td>Cafe</td>\n",
       "      <td>5</td>\n",
       "    </tr>\n",
       "  </tbody>\n",
       "</table>\n",
       "</div>"
      ],
      "text/plain": [
       "         id                           object_name                   address  \\\n",
       "4948  16734                     GROUNDWORK COFFEE              108 W 2ND ST   \n",
       "5584  17370  GROUNDWORK COFFEE -THE GROVE (KIOSK)  189 THE GROVE DRIVE # K2   \n",
       "7761  19548                            GROUNDWORK      1501 N CAHUENGA BLVD   \n",
       "9347  21134                     GROUNDWORK COFFEE      150 N LARCHMONT BLVD   \n",
       "\n",
       "      chain object_type  number  \n",
       "4948   True        Cafe      29  \n",
       "5584   True        Cafe      10  \n",
       "7761  False  Restaurant      84  \n",
       "9347   True        Cafe       5  "
      ]
     },
     "execution_count": 17,
     "metadata": {},
     "output_type": "execute_result"
    }
   ],
   "source": [
    "#check some cafes' names\n",
    "data[data['object_name'].str.contains(\"GROUNDWORK\")]"
   ]
  },
  {
   "cell_type": "code",
   "execution_count": 18,
   "metadata": {
    "scrolled": true
   },
   "outputs": [
    {
     "data": {
      "text/html": [
       "<div>\n",
       "<style scoped>\n",
       "    .dataframe tbody tr th:only-of-type {\n",
       "        vertical-align: middle;\n",
       "    }\n",
       "\n",
       "    .dataframe tbody tr th {\n",
       "        vertical-align: top;\n",
       "    }\n",
       "\n",
       "    .dataframe thead th {\n",
       "        text-align: right;\n",
       "    }\n",
       "</style>\n",
       "<table border=\"1\" class=\"dataframe\">\n",
       "  <thead>\n",
       "    <tr style=\"text-align: right;\">\n",
       "      <th></th>\n",
       "      <th>id</th>\n",
       "      <th>object_name</th>\n",
       "      <th>address</th>\n",
       "      <th>chain</th>\n",
       "      <th>object_type</th>\n",
       "      <th>number</th>\n",
       "    </tr>\n",
       "  </thead>\n",
       "  <tbody>\n",
       "    <tr>\n",
       "      <th>4310</th>\n",
       "      <td>16096</td>\n",
       "      <td>TOM N TOMS COFFEE</td>\n",
       "      <td>333 S ALAMEDA ST STE #108</td>\n",
       "      <td>True</td>\n",
       "      <td>Cafe</td>\n",
       "      <td>112</td>\n",
       "    </tr>\n",
       "    <tr>\n",
       "      <th>4831</th>\n",
       "      <td>16617</td>\n",
       "      <td>TOM N TOMS</td>\n",
       "      <td>2716 W OLYMPIC BLVD # 108</td>\n",
       "      <td>True</td>\n",
       "      <td>Restaurant</td>\n",
       "      <td>27</td>\n",
       "    </tr>\n",
       "    <tr>\n",
       "      <th>5886</th>\n",
       "      <td>17672</td>\n",
       "      <td>TOM N TOMS-COFFEE</td>\n",
       "      <td>3974 W WILSHIRE BLVD # 101</td>\n",
       "      <td>True</td>\n",
       "      <td>Cafe</td>\n",
       "      <td>78</td>\n",
       "    </tr>\n",
       "    <tr>\n",
       "      <th>6393</th>\n",
       "      <td>18179</td>\n",
       "      <td>TOM N TOMS COFFEE</td>\n",
       "      <td>3785 WILSHIRE BLVD STE 26</td>\n",
       "      <td>True</td>\n",
       "      <td>Cafe</td>\n",
       "      <td>1</td>\n",
       "    </tr>\n",
       "    <tr>\n",
       "      <th>7091</th>\n",
       "      <td>18878</td>\n",
       "      <td>TOM N TOMS COFFEE</td>\n",
       "      <td>3240 WILSHIRE BLVD STE #102</td>\n",
       "      <td>True</td>\n",
       "      <td>Cafe</td>\n",
       "      <td>12</td>\n",
       "    </tr>\n",
       "    <tr>\n",
       "      <th>8567</th>\n",
       "      <td>20354</td>\n",
       "      <td>TOM N TOMS COFFEE</td>\n",
       "      <td>125 N WESTERN AVE # #113</td>\n",
       "      <td>True</td>\n",
       "      <td>Cafe</td>\n",
       "      <td>143</td>\n",
       "    </tr>\n",
       "    <tr>\n",
       "      <th>8813</th>\n",
       "      <td>20600</td>\n",
       "      <td>TOM N TOMS VERMONT GALLERIA</td>\n",
       "      <td>440 S VERMONT AVE # 116</td>\n",
       "      <td>True</td>\n",
       "      <td>Restaurant</td>\n",
       "      <td>9</td>\n",
       "    </tr>\n",
       "    <tr>\n",
       "      <th>9562</th>\n",
       "      <td>21349</td>\n",
       "      <td>TOM N TOMS</td>\n",
       "      <td>3829 6TH ST</td>\n",
       "      <td>True</td>\n",
       "      <td>Restaurant</td>\n",
       "      <td>2</td>\n",
       "    </tr>\n",
       "  </tbody>\n",
       "</table>\n",
       "</div>"
      ],
      "text/plain": [
       "         id                  object_name                      address  chain  \\\n",
       "4310  16096            TOM N TOMS COFFEE    333 S ALAMEDA ST STE #108   True   \n",
       "4831  16617                   TOM N TOMS    2716 W OLYMPIC BLVD # 108   True   \n",
       "5886  17672            TOM N TOMS-COFFEE   3974 W WILSHIRE BLVD # 101   True   \n",
       "6393  18179            TOM N TOMS COFFEE    3785 WILSHIRE BLVD STE 26   True   \n",
       "7091  18878            TOM N TOMS COFFEE  3240 WILSHIRE BLVD STE #102   True   \n",
       "8567  20354            TOM N TOMS COFFEE     125 N WESTERN AVE # #113   True   \n",
       "8813  20600  TOM N TOMS VERMONT GALLERIA      440 S VERMONT AVE # 116   True   \n",
       "9562  21349                   TOM N TOMS                  3829 6TH ST   True   \n",
       "\n",
       "     object_type  number  \n",
       "4310        Cafe     112  \n",
       "4831  Restaurant      27  \n",
       "5886        Cafe      78  \n",
       "6393        Cafe       1  \n",
       "7091        Cafe      12  \n",
       "8567        Cafe     143  \n",
       "8813  Restaurant       9  \n",
       "9562  Restaurant       2  "
      ]
     },
     "execution_count": 18,
     "metadata": {},
     "output_type": "execute_result"
    }
   ],
   "source": [
    "#check some cafes' names\n",
    "data[data['object_name'].str.contains(\"TOM N TOMS\")]"
   ]
  },
  {
   "cell_type": "code",
   "execution_count": 19,
   "metadata": {},
   "outputs": [],
   "source": [
    "# replace cafe names\n",
    "data['object_name'] = data.object_name.str.replace(r'(^.*TOM N TOMS.*$)', 'TOM N TOMS')\n",
    "data['object_name'] = data.object_name.str.replace(r'(^.*GROUNDWORK COFFEE.*$)', 'GROUNDWORK COFFEE')\n",
    "data['object_name'] = data.object_name.str.replace(r'(^.*COFFE TIME.*$)', 'COFFEE TIME')\n",
    "data['object_name'] = data.object_name.str.replace(r'(^.*ANDANTE COFFEE.*$)', 'ANDANTE COFFEE ROASTERS')"
   ]
  },
  {
   "cell_type": "markdown",
   "metadata": {},
   "source": [
    "The data in object names has been cleaned and we will be able to analyze what characterizes chains: many establishments with a small number of seats or a few establishments with a lot of seats."
   ]
  },
  {
   "cell_type": "markdown",
   "metadata": {},
   "source": [
    "###  Data analysis<a id=\"analysis\"></a> "
   ]
  },
  {
   "cell_type": "markdown",
   "metadata": {},
   "source": [
    "#### Proportions of the various types of establishments <a id=\"proportions\"></a> "
   ]
  },
  {
   "cell_type": "code",
   "execution_count": 20,
   "metadata": {},
   "outputs": [
    {
     "data": {
      "text/html": [
       "<div>\n",
       "<style scoped>\n",
       "    .dataframe tbody tr th:only-of-type {\n",
       "        vertical-align: middle;\n",
       "    }\n",
       "\n",
       "    .dataframe tbody tr th {\n",
       "        vertical-align: top;\n",
       "    }\n",
       "\n",
       "    .dataframe thead th {\n",
       "        text-align: right;\n",
       "    }\n",
       "</style>\n",
       "<table border=\"1\" class=\"dataframe\">\n",
       "  <thead>\n",
       "    <tr style=\"text-align: right;\">\n",
       "      <th></th>\n",
       "      <th>type</th>\n",
       "      <th>number</th>\n",
       "      <th>percent</th>\n",
       "    </tr>\n",
       "  </thead>\n",
       "  <tbody>\n",
       "    <tr>\n",
       "      <th>0</th>\n",
       "      <td>Bakery</td>\n",
       "      <td>283</td>\n",
       "      <td>2.932946</td>\n",
       "    </tr>\n",
       "    <tr>\n",
       "      <th>1</th>\n",
       "      <td>Bar</td>\n",
       "      <td>292</td>\n",
       "      <td>3.026220</td>\n",
       "    </tr>\n",
       "    <tr>\n",
       "      <th>2</th>\n",
       "      <td>Cafe</td>\n",
       "      <td>435</td>\n",
       "      <td>4.508239</td>\n",
       "    </tr>\n",
       "    <tr>\n",
       "      <th>3</th>\n",
       "      <td>Fast Food</td>\n",
       "      <td>1064</td>\n",
       "      <td>11.027049</td>\n",
       "    </tr>\n",
       "    <tr>\n",
       "      <th>4</th>\n",
       "      <td>Pizza</td>\n",
       "      <td>320</td>\n",
       "      <td>3.316406</td>\n",
       "    </tr>\n",
       "    <tr>\n",
       "      <th>5</th>\n",
       "      <td>Restaurant</td>\n",
       "      <td>7255</td>\n",
       "      <td>75.189139</td>\n",
       "    </tr>\n",
       "  </tbody>\n",
       "</table>\n",
       "</div>"
      ],
      "text/plain": [
       "         type  number    percent\n",
       "0      Bakery     283   2.932946\n",
       "1         Bar     292   3.026220\n",
       "2        Cafe     435   4.508239\n",
       "3   Fast Food    1064  11.027049\n",
       "4       Pizza     320   3.316406\n",
       "5  Restaurant    7255  75.189139"
      ]
     },
     "execution_count": 20,
     "metadata": {},
     "output_type": "execute_result"
    }
   ],
   "source": [
    "# calculate proportion of each establishment type\n",
    "\n",
    "proportions_types = data.groupby('object_type', as_index=False).agg({\\\n",
    "                'object_name': 'count'})\n",
    "\n",
    "proportions_types.columns = ['type','number']\n",
    "\n",
    "proportions_types['percent'] = proportions_types['number'] / proportions_types['number'].sum() * 100\n",
    "proportions_types"
   ]
  },
  {
   "cell_type": "code",
   "execution_count": 21,
   "metadata": {},
   "outputs": [
    {
     "data": {
      "image/png": "[encoded data removed]",
      "text/plain": [
       "<Figure size 1296x648 with 1 Axes>"
      ]
     },
     "metadata": {},
     "output_type": "display_data"
    }
   ],
   "source": [
    "# prepare the data for plotting\n",
    "# create a dictionary of establishments types and their totals\n",
    "d = data['object_type'].value_counts().to_dict()\n",
    "\n",
    "# plot a pie chart \n",
    "fig = plt.figure(figsize = (18, 9))\n",
    "ax = fig.add_subplot()\n",
    "ax.pie(d.values(),\n",
    "       labels = d.keys(), \n",
    "       autopct = '%1.1f%%',\n",
    "       textprops = {'fontsize': 13, 'color' : \"black\"})\n",
    " \n",
    "# set the title\n",
    "ax.set_title(\"Proportions of the various types of establishments\", fontsize=18)\n",
    "\n",
    "# set the legend and add a title to the legend\n",
    "ax.legend(loc = \"upper right\", bbox_to_anchor = (1, 0, 0.5, 1), fontsize = 15, title = \"Type of establishment\");\n",
    "plt.savefig('proportion.png') # save the graph as image for presentation\n",
    "plt.show()"
   ]
  },
  {
   "cell_type": "markdown",
   "metadata": {},
   "source": [
    "From the chart we see that restaurants have the largest market share in Los Angeles - over 75%. Fast food establishments have 11% of market and cafes have only 4.5%. That means there is no strong competition in the segment we are interested in. "
   ]
  },
  {
   "cell_type": "markdown",
   "metadata": {},
   "source": [
    "#### Proportions of chain and nonchain establishments <a id=\"chain\"></a> "
   ]
  },
  {
   "cell_type": "code",
   "execution_count": 22,
   "metadata": {},
   "outputs": [
    {
     "data": {
      "image/png": "[encoded data removed]",
      "text/plain": [
       "<Figure size 864x432 with 1 Axes>"
      ]
     },
     "metadata": {},
     "output_type": "display_data"
    }
   ],
   "source": [
    "# calculate number of chain and non-chain establishments\n",
    "chain = data['chain'].value_counts().to_dict()\n",
    "\n",
    "# plot pie chart\n",
    "fig = plt.figure(figsize = (12, 6))\n",
    "ax = fig.add_subplot()\n",
    "\n",
    "ax.pie(chain.values(), \n",
    "       labels = chain.keys(), \n",
    "       autopct = '%1.0f%%', \n",
    "       textprops = {'fontsize': 13, 'color' : \"black\"})\n",
    "\n",
    "ax.set_title(\"Proportion of chain and non-chain establishments\", size = 18)\n",
    "ax.legend(loc = \"upper right\", bbox_to_anchor = (1, 0, 0.5, 1), fontsize = 15, title = \"Chain\")\n",
    "plt.savefig('proportion_chain.png')"
   ]
  },
  {
   "cell_type": "markdown",
   "metadata": {},
   "source": [
    "At first glance, it seems that most of the establishments in LA are non-chain type: 62% while chain type - 38%.\n",
    "But we should analyse each category."
   ]
  },
  {
   "cell_type": "code",
   "execution_count": 23,
   "metadata": {},
   "outputs": [],
   "source": [
    "# define a function to calculate percantage of chain and non-chain establishments in each category\n",
    "def with_hue(plot, feature, Number_of_categories, hue_categories):\n",
    "    a = [p.get_height() for p in plot.patches]\n",
    "    patch = [p for p in plot.patches]\n",
    "    for i in range(Number_of_categories):\n",
    "        total = feature.value_counts().values[i]\n",
    "        for j in range(hue_categories):\n",
    "            percentage = '{:.1f}%'.format(100 * a[(j*Number_of_categories + i)]/total)\n",
    "            x = patch[(j*Number_of_categories + i)].get_x() + patch[(j*Number_of_categories + i)].get_width() / 2 - 0.15\n",
    "            y = patch[(j*Number_of_categories + i)].get_y() + patch[(j*Number_of_categories + i)].get_height() \n",
    "            ax.annotate(percentage, (x, y), size = 12)\n",
    "    plt.show()"
   ]
  },
  {
   "cell_type": "code",
   "execution_count": 24,
   "metadata": {
    "scrolled": false
   },
   "outputs": [
    {
     "data": {
      "image/png": "[encoded data removed]",
      "text/plain": [
       "<Figure size 864x432 with 1 Axes>"
      ]
     },
     "metadata": {
      "needs_background": "light"
     },
     "output_type": "display_data"
    },
    {
     "data": {
      "text/plain": [
       "<Figure size 432x288 with 0 Axes>"
      ]
     },
     "metadata": {},
     "output_type": "display_data"
    }
   ],
   "source": [
    "# plot a graph with proportion of chain and non chain establishments in each category\n",
    "\n",
    "plt.figure(figsize = (12,6))\n",
    "category_order = ['Restaurant', 'Fast Food', 'Cafe', 'Pizza', 'Bar', 'Bakery']\n",
    "ax = sns.countplot('object_type', hue='chain', data=data, order = category_order)\n",
    "plt.xticks(size=12)\n",
    "plt.xlabel('Establishment category', size=12)\n",
    "plt.yticks(size=12)\n",
    "plt.ylabel('Number of establishments', size=12)\n",
    "plt.title('Proportion of chain and non chain establishments for each category', size = 18)\n",
    "ax.legend(loc = 'upper right',title = 'Chain')\n",
    "\n",
    "with_hue(ax, data.object_type, 6, 2) # calculate proportion\n",
    "plt.savefig('proportion_by_category.png')\n",
    "plt.show()"
   ]
  },
  {
   "cell_type": "code",
   "execution_count": 25,
   "metadata": {},
   "outputs": [
    {
     "data": {
      "text/html": [
       "<div>\n",
       "<style scoped>\n",
       "    .dataframe tbody tr th:only-of-type {\n",
       "        vertical-align: middle;\n",
       "    }\n",
       "\n",
       "    .dataframe tbody tr th {\n",
       "        vertical-align: top;\n",
       "    }\n",
       "\n",
       "    .dataframe thead th {\n",
       "        text-align: right;\n",
       "    }\n",
       "</style>\n",
       "<table border=\"1\" class=\"dataframe\">\n",
       "  <thead>\n",
       "    <tr style=\"text-align: right;\">\n",
       "      <th></th>\n",
       "      <th>non_chain</th>\n",
       "      <th>chain</th>\n",
       "      <th>total</th>\n",
       "    </tr>\n",
       "    <tr>\n",
       "      <th>object_type</th>\n",
       "      <th></th>\n",
       "      <th></th>\n",
       "      <th></th>\n",
       "    </tr>\n",
       "  </thead>\n",
       "  <tbody>\n",
       "    <tr>\n",
       "      <th>Bakery</th>\n",
       "      <td>0</td>\n",
       "      <td>283</td>\n",
       "      <td>283</td>\n",
       "    </tr>\n",
       "    <tr>\n",
       "      <th>Bar</th>\n",
       "      <td>215</td>\n",
       "      <td>77</td>\n",
       "      <td>292</td>\n",
       "    </tr>\n",
       "    <tr>\n",
       "      <th>Cafe</th>\n",
       "      <td>169</td>\n",
       "      <td>266</td>\n",
       "      <td>435</td>\n",
       "    </tr>\n",
       "    <tr>\n",
       "      <th>Fast Food</th>\n",
       "      <td>459</td>\n",
       "      <td>605</td>\n",
       "      <td>1064</td>\n",
       "    </tr>\n",
       "    <tr>\n",
       "      <th>Pizza</th>\n",
       "      <td>167</td>\n",
       "      <td>153</td>\n",
       "      <td>320</td>\n",
       "    </tr>\n",
       "    <tr>\n",
       "      <th>Restaurant</th>\n",
       "      <td>4963</td>\n",
       "      <td>2292</td>\n",
       "      <td>7255</td>\n",
       "    </tr>\n",
       "    <tr>\n",
       "      <th>All</th>\n",
       "      <td>5973</td>\n",
       "      <td>3676</td>\n",
       "      <td>9649</td>\n",
       "    </tr>\n",
       "  </tbody>\n",
       "</table>\n",
       "</div>"
      ],
      "text/plain": [
       "             non_chain  chain  total\n",
       "object_type                         \n",
       "Bakery               0    283    283\n",
       "Bar                215     77    292\n",
       "Cafe               169    266    435\n",
       "Fast Food          459    605   1064\n",
       "Pizza              167    153    320\n",
       "Restaurant        4963   2292   7255\n",
       "All               5973   3676   9649"
      ]
     },
     "execution_count": 25,
     "metadata": {},
     "output_type": "execute_result"
    }
   ],
   "source": [
    "# calculate absolute numbers of chain and non chain establishments in each category \n",
    "chain_type = data.pivot_table(index = 'object_type', columns = 'chain', values = 'object_name', aggfunc = 'count', \n",
    "                 margins = True, fill_value = 0)\n",
    "chain_type.columns = ['non_chain', 'chain', 'total']\n",
    "chain_type"
   ]
  },
  {
   "cell_type": "markdown",
   "metadata": {},
   "source": [
    "In LA most restaurants (68%) are non-chain type. The same pattern we see for bars: 74% and 26% respectively. But in Pizza segment there are approximately equal shares: 52% - non-chain types and 48% - chain types. However in Cafe and Fast Food categories chain type establishments predominate. And as we see from the graph all bakeries in LA are chain model."
   ]
  },
  {
   "cell_type": "markdown",
   "metadata": {},
   "source": [
    "#### Chains analysis<a id=\"chains\"></a> "
   ]
  },
  {
   "cell_type": "markdown",
   "metadata": {},
   "source": [
    "What characterizes chains: many establishments with a small number of seats or a few establishments with a lot of seats?"
   ]
  },
  {
   "cell_type": "code",
   "execution_count": 26,
   "metadata": {},
   "outputs": [
    {
     "name": "stdout",
     "output_type": "stream",
     "text": [
      "The most frequent number of seats is:  12\n"
     ]
    },
    {
     "data": {
      "text/plain": [
       "count    3676.000000\n",
       "mean       39.694233\n",
       "std        43.437212\n",
       "min         1.000000\n",
       "25%        13.000000\n",
       "50%        25.000000\n",
       "75%        44.000000\n",
       "max       229.000000\n",
       "Name: number, dtype: float64"
      ]
     },
     "execution_count": 26,
     "metadata": {},
     "output_type": "execute_result"
    }
   ],
   "source": [
    "# have a look on statistical data by the number of seats of chain type establishments\n",
    "\n",
    "print('The most frequent number of seats is:', data.query('chain==True')['number'].agg('mode').to_string(index=False))\n",
    "data.query('chain==True')['number'].describe()"
   ]
  },
  {
   "cell_type": "markdown",
   "metadata": {},
   "source": [
    "From the statistical description we see that chain type establishments tends toward a few number of seats: an average number of seats is about 40 with the large standard deviation of 43. While the most frequent number of seats is 12 and median value - 25 seats. Only 25% of establishments have more than 44 seats. We see than chain type establishments differ a lot: there are small one with 1 seat and some large up to 229 seats."
   ]
  },
  {
   "cell_type": "markdown",
   "metadata": {},
   "source": [
    "[Link to installation code](#install)"
   ]
  },
  {
   "cell_type": "code",
   "execution_count": 27,
   "metadata": {},
   "outputs": [
    {
     "data": {
      "image/png": "[encoded data removed]",
      "text/plain": [
       "<Figure size 864x432 with 1 Axes>"
      ]
     },
     "metadata": {
      "needs_background": "light"
     },
     "output_type": "display_data"
    }
   ],
   "source": [
    "# plot a histogram of seats distribution in chain type establishments\n",
    "chains_only = data.query('chain==True')\n",
    "plt.figure(figsize = (12,6))\n",
    "sns.histplot(chains_only, x='number', bins='auto')\n",
    "plt.axvline(chains_only['number'].median(), color='firebrick', linestyle='dashed', linewidth=2)\n",
    "min_ylim, max_ylim = plt.ylim()\n",
    "plt.text(chains_only['number'].median()*1.1, max_ylim*0.92, 'Median: {:.0f}'.format(chains_only['number'].median()))\n",
    "plt.xlabel(\"Number of seats\", fontsize=12)\n",
    "plt.ylabel(\"Frequency\",fontsize=12)\n",
    "plt.title('Number of seats in chain type establishments', size = 16)\n",
    "plt.savefig('chains_seats.png')\n",
    "plt.show()"
   ]
  },
  {
   "cell_type": "markdown",
   "metadata": {},
   "source": [
    "In general, LA chains are characterized by a large number of establishments with a small number of seats. An average number of seats is 25. But there are missing values in range 50-60 seats. Probably this is a boundary between 'few' and 'many' seats numbers. More than that should analyze each chain in each category to understand if this is a trend for every market category."
   ]
  },
  {
   "cell_type": "code",
   "execution_count": 28,
   "metadata": {},
   "outputs": [
    {
     "name": "stdout",
     "output_type": "stream",
     "text": [
      "Less than or equal to 50 seats: [49 49 49 49 49 49 49 49 49 49]\n",
      "Greater than 50: [61 61 61 62 62 62 62 62 62 62]\n"
     ]
    }
   ],
   "source": [
    "# choose chain type establishments and check the absence of number of seats in range 50-60\n",
    "chains_only = data.query('chain==True')\n",
    "\n",
    "# less than or equal to 50, top 10\n",
    "print(\"Less than or equal to 50 seats:\",\n",
    "      chains_only.query('number <=50')['number'].sort_values(ascending=False).head(10).values) \n",
    "\n",
    "# seats greater than 50, bottom 10\n",
    "print(\"Greater than 50:\",chains_only.query('number >50')['number'].sort_values().head(10).values)\n"
   ]
  },
  {
   "cell_type": "markdown",
   "metadata": {},
   "source": [
    "As a result we can set a boundary in number of seats: 'few' - less or equal to 50, 'many' - greater than 50."
   ]
  },
  {
   "cell_type": "code",
   "execution_count": 29,
   "metadata": {},
   "outputs": [
    {
     "data": {
      "text/html": [
       "<div>\n",
       "<style scoped>\n",
       "    .dataframe tbody tr th:only-of-type {\n",
       "        vertical-align: middle;\n",
       "    }\n",
       "\n",
       "    .dataframe tbody tr th {\n",
       "        vertical-align: top;\n",
       "    }\n",
       "\n",
       "    .dataframe thead th {\n",
       "        text-align: right;\n",
       "    }\n",
       "</style>\n",
       "<table border=\"1\" class=\"dataframe\">\n",
       "  <thead>\n",
       "    <tr style=\"text-align: right;\">\n",
       "      <th></th>\n",
       "      <th>id</th>\n",
       "      <th>object_name</th>\n",
       "      <th>address</th>\n",
       "      <th>chain</th>\n",
       "      <th>object_type</th>\n",
       "      <th>number</th>\n",
       "      <th>seats_category</th>\n",
       "    </tr>\n",
       "  </thead>\n",
       "  <tbody>\n",
       "    <tr>\n",
       "      <th>0</th>\n",
       "      <td>11786</td>\n",
       "      <td>HABITAT COFFEE SHOP</td>\n",
       "      <td>3708 N EAGLE ROCK BLVD</td>\n",
       "      <td>False</td>\n",
       "      <td>Cafe</td>\n",
       "      <td>26</td>\n",
       "      <td>few</td>\n",
       "    </tr>\n",
       "    <tr>\n",
       "      <th>1</th>\n",
       "      <td>11787</td>\n",
       "      <td>REILLY'S</td>\n",
       "      <td>100 WORLD WAY # 120</td>\n",
       "      <td>False</td>\n",
       "      <td>Restaurant</td>\n",
       "      <td>9</td>\n",
       "      <td>few</td>\n",
       "    </tr>\n",
       "    <tr>\n",
       "      <th>2</th>\n",
       "      <td>11788</td>\n",
       "      <td>STREET CHURROS</td>\n",
       "      <td>6801 HOLLYWOOD BLVD # 253</td>\n",
       "      <td>False</td>\n",
       "      <td>Fast Food</td>\n",
       "      <td>20</td>\n",
       "      <td>few</td>\n",
       "    </tr>\n",
       "    <tr>\n",
       "      <th>3</th>\n",
       "      <td>11789</td>\n",
       "      <td>TRINITI ECHO PARK</td>\n",
       "      <td>1814 W SUNSET BLVD</td>\n",
       "      <td>False</td>\n",
       "      <td>Restaurant</td>\n",
       "      <td>22</td>\n",
       "      <td>few</td>\n",
       "    </tr>\n",
       "    <tr>\n",
       "      <th>4</th>\n",
       "      <td>11790</td>\n",
       "      <td>POLLEN</td>\n",
       "      <td>2100 ECHO PARK AVE</td>\n",
       "      <td>False</td>\n",
       "      <td>Restaurant</td>\n",
       "      <td>20</td>\n",
       "      <td>few</td>\n",
       "    </tr>\n",
       "  </tbody>\n",
       "</table>\n",
       "</div>"
      ],
      "text/plain": [
       "      id          object_name                    address  chain object_type  \\\n",
       "0  11786  HABITAT COFFEE SHOP     3708 N EAGLE ROCK BLVD  False        Cafe   \n",
       "1  11787             REILLY'S        100 WORLD WAY # 120  False  Restaurant   \n",
       "2  11788       STREET CHURROS  6801 HOLLYWOOD BLVD # 253  False   Fast Food   \n",
       "3  11789    TRINITI ECHO PARK         1814 W SUNSET BLVD  False  Restaurant   \n",
       "4  11790               POLLEN         2100 ECHO PARK AVE  False  Restaurant   \n",
       "\n",
       "   number seats_category  \n",
       "0      26            few  \n",
       "1       9            few  \n",
       "2      20            few  \n",
       "3      22            few  \n",
       "4      20            few  "
      ]
     },
     "execution_count": 29,
     "metadata": {},
     "output_type": "execute_result"
    }
   ],
   "source": [
    "# define category of the number of seats\n",
    "data['seats_category'] = data['number'].apply(\n",
    "    lambda x: 'few' if x <= 50 else 'many')\n",
    "data.head()"
   ]
  },
  {
   "cell_type": "code",
   "execution_count": 30,
   "metadata": {},
   "outputs": [
    {
     "data": {
      "text/plain": [
       "few     0.825082\n",
       "many    0.174918\n",
       "Name: seats_category, dtype: float64"
      ]
     },
     "execution_count": 30,
     "metadata": {},
     "output_type": "execute_result"
    }
   ],
   "source": [
    "# calculate percentage of each seats category in chain type establisments\n",
    "data[data['chain']==True]['seats_category'].value_counts(normalize=True)"
   ]
  },
  {
   "cell_type": "markdown",
   "metadata": {},
   "source": [
    "In chains 82.5% establishments have a few seats on average and 17.5% - many. We came to main conclusion, in LA chains are characterized by many establishments with few number of seats. But the generalized analysis is made and in order to avoid incorrect conclusions due to paradoxes, we must analyze each category separately."
   ]
  },
  {
   "cell_type": "code",
   "execution_count": 31,
   "metadata": {},
   "outputs": [
    {
     "data": {
      "text/html": [
       "<div>\n",
       "<style scoped>\n",
       "    .dataframe tbody tr th:only-of-type {\n",
       "        vertical-align: middle;\n",
       "    }\n",
       "\n",
       "    .dataframe tbody tr th {\n",
       "        vertical-align: top;\n",
       "    }\n",
       "\n",
       "    .dataframe thead th {\n",
       "        text-align: right;\n",
       "    }\n",
       "</style>\n",
       "<table border=\"1\" class=\"dataframe\">\n",
       "  <thead>\n",
       "    <tr style=\"text-align: right;\">\n",
       "      <th></th>\n",
       "      <th></th>\n",
       "      <th>seats_avg</th>\n",
       "      <th>number_est</th>\n",
       "    </tr>\n",
       "    <tr>\n",
       "      <th>object_type</th>\n",
       "      <th>object_name</th>\n",
       "      <th></th>\n",
       "      <th></th>\n",
       "    </tr>\n",
       "  </thead>\n",
       "  <tbody>\n",
       "    <tr>\n",
       "      <th>Fast Food</th>\n",
       "      <th>SUBWAY</th>\n",
       "      <td>17.269737</td>\n",
       "      <td>152</td>\n",
       "    </tr>\n",
       "    <tr>\n",
       "      <th rowspan=\"2\" valign=\"top\">Cafe</th>\n",
       "      <th>STARBUCKS</th>\n",
       "      <td>27.124031</td>\n",
       "      <td>129</td>\n",
       "    </tr>\n",
       "    <tr>\n",
       "      <th>THE COFFEE BEAN AND TEA LEAF</th>\n",
       "      <td>23.939394</td>\n",
       "      <td>66</td>\n",
       "    </tr>\n",
       "    <tr>\n",
       "      <th>Fast Food</th>\n",
       "      <th>MCDONALD'S</th>\n",
       "      <td>97.580645</td>\n",
       "      <td>62</td>\n",
       "    </tr>\n",
       "    <tr>\n",
       "      <th>Restaurant</th>\n",
       "      <th>JACK IN THE BOX</th>\n",
       "      <td>64.980769</td>\n",
       "      <td>52</td>\n",
       "    </tr>\n",
       "  </tbody>\n",
       "</table>\n",
       "</div>"
      ],
      "text/plain": [
       "                                          seats_avg  number_est\n",
       "object_type object_name                                        \n",
       "Fast Food   SUBWAY                        17.269737         152\n",
       "Cafe        STARBUCKS                     27.124031         129\n",
       "            THE COFFEE BEAN AND TEA LEAF  23.939394          66\n",
       "Fast Food   MCDONALD'S                    97.580645          62\n",
       "Restaurant  JACK IN THE BOX               64.980769          52"
      ]
     },
     "execution_count": 31,
     "metadata": {},
     "output_type": "execute_result"
    }
   ],
   "source": [
    "# choose chain type establishments and calculate their number in a chain and an average number of seats\n",
    "chains_only = data.query('chain == True').pivot_table(\n",
    "                                          index=['object_type','object_name'],\n",
    "                                          aggfunc = {'object_name':'count', 'number':'mean'})\n",
    "                                       \n",
    "chains_only.columns = ['seats_avg','number_est'] # change column names: average number of seats in each chain\n",
    "                                                 # and number of establishments in a chain\n",
    "chains_only.sort_values(by='number_est',ascending=False).head() # sort chains by size"
   ]
  },
  {
   "cell_type": "markdown",
   "metadata": {},
   "source": [
    "There are some 'big players' on the LA market: chains with the large number of establishments. For instance Subway has 152 branches in LA, Starbucks has 129 cafes. But their average number of seats is small (17-27), while Mcdonald's for example has less establisments - 62, but they are larger - almost 100 seats."
   ]
  },
  {
   "cell_type": "code",
   "execution_count": 32,
   "metadata": {},
   "outputs": [
    {
     "data": {
      "text/html": [
       "<div>\n",
       "<style scoped>\n",
       "    .dataframe tbody tr th:only-of-type {\n",
       "        vertical-align: middle;\n",
       "    }\n",
       "\n",
       "    .dataframe tbody tr th {\n",
       "        vertical-align: top;\n",
       "    }\n",
       "\n",
       "    .dataframe thead th {\n",
       "        text-align: right;\n",
       "    }\n",
       "</style>\n",
       "<table border=\"1\" class=\"dataframe\">\n",
       "  <thead>\n",
       "    <tr style=\"text-align: right;\">\n",
       "      <th></th>\n",
       "      <th>number_est</th>\n",
       "      <th>seats_avg</th>\n",
       "    </tr>\n",
       "    <tr>\n",
       "      <th>object_type</th>\n",
       "      <th></th>\n",
       "      <th></th>\n",
       "    </tr>\n",
       "  </thead>\n",
       "  <tbody>\n",
       "    <tr>\n",
       "      <th>Bakery</th>\n",
       "      <td>1.0</td>\n",
       "      <td>17.0</td>\n",
       "    </tr>\n",
       "    <tr>\n",
       "      <th>Bar</th>\n",
       "      <td>1.0</td>\n",
       "      <td>22.0</td>\n",
       "    </tr>\n",
       "    <tr>\n",
       "      <th>Cafe</th>\n",
       "      <td>7.0</td>\n",
       "      <td>20.0</td>\n",
       "    </tr>\n",
       "    <tr>\n",
       "      <th>Fast Food</th>\n",
       "      <td>4.0</td>\n",
       "      <td>21.0</td>\n",
       "    </tr>\n",
       "    <tr>\n",
       "      <th>Pizza</th>\n",
       "      <td>4.0</td>\n",
       "      <td>18.0</td>\n",
       "    </tr>\n",
       "    <tr>\n",
       "      <th>Restaurant</th>\n",
       "      <td>2.0</td>\n",
       "      <td>27.0</td>\n",
       "    </tr>\n",
       "  </tbody>\n",
       "</table>\n",
       "</div>"
      ],
      "text/plain": [
       "             number_est  seats_avg\n",
       "object_type                       \n",
       "Bakery              1.0       17.0\n",
       "Bar                 1.0       22.0\n",
       "Cafe                7.0       20.0\n",
       "Fast Food           4.0       21.0\n",
       "Pizza               4.0       18.0\n",
       "Restaurant          2.0       27.0"
      ]
     },
     "execution_count": 32,
     "metadata": {},
     "output_type": "execute_result"
    }
   ],
   "source": [
    "# calculate average number of establishments and seats in each category\n",
    "chains_only.groupby('object_type').agg({'number_est':'mean','seats_avg':'median'}).round(0)"
   ]
  },
  {
   "cell_type": "code",
   "execution_count": 33,
   "metadata": {},
   "outputs": [
    {
     "data": {
      "image/png": "[encoded data removed]",
      "text/plain": [
       "<Figure size 432x432 with 3 Axes>"
      ]
     },
     "metadata": {
      "needs_background": "light"
     },
     "output_type": "display_data"
    }
   ],
   "source": [
    "# plot jointplot to analyze how many establishments there are in chains\n",
    "# a distribution of their average number of seats and regression between these two indicators\n",
    "\n",
    "sns.jointplot(data=chains_only, x='number_est', y='seats_avg', kind='reg')\n",
    "plt.xlabel(\"Number of establishments in a chain\", fontsize=12)\n",
    "plt.ylabel(\"Average number of seats in a chain\",fontsize=12)\n",
    "plt.suptitle('Number of establishments and number of seats regression', fontsize = 16)\n",
    "\n",
    "plt.show()"
   ]
  },
  {
   "cell_type": "markdown",
   "metadata": {},
   "source": [
    "From the graph we can not make a univocal conclusion what characterize chains. We see that on average chains doesn't have many establishments and they don't have a lot of seats. It varies on chain type: whether it is a restaurant or a bakery or cafe, etc. Let's have a look on each category in detail."
   ]
  },
  {
   "cell_type": "code",
   "execution_count": 34,
   "metadata": {
    "scrolled": true
   },
   "outputs": [
    {
     "name": "stdout",
     "output_type": "stream",
     "text": [
      "Bakery\n"
     ]
    },
    {
     "data": {
      "image/png": "[encoded data removed]",
      "text/plain": [
       "<Figure size 432x432 with 3 Axes>"
      ]
     },
     "metadata": {
      "needs_background": "light"
     },
     "output_type": "display_data"
    },
    {
     "name": "stdout",
     "output_type": "stream",
     "text": [
      "Bar\n"
     ]
    },
    {
     "data": {
      "image/png": "[encoded data removed]",
      "text/plain": [
       "<Figure size 432x432 with 3 Axes>"
      ]
     },
     "metadata": {
      "needs_background": "light"
     },
     "output_type": "display_data"
    },
    {
     "name": "stdout",
     "output_type": "stream",
     "text": [
      "Cafe\n"
     ]
    },
    {
     "data": {
      "image/png": "[encoded data removed]",
      "text/plain": [
       "<Figure size 432x432 with 3 Axes>"
      ]
     },
     "metadata": {
      "needs_background": "light"
     },
     "output_type": "display_data"
    },
    {
     "name": "stdout",
     "output_type": "stream",
     "text": [
      "Fast Food\n"
     ]
    },
    {
     "data": {
      "image/png": "[encoded data removed]",
      "text/plain": [
       "<Figure size 432x432 with 3 Axes>"
      ]
     },
     "metadata": {
      "needs_background": "light"
     },
     "output_type": "display_data"
    },
    {
     "name": "stdout",
     "output_type": "stream",
     "text": [
      "Pizza\n"
     ]
    },
    {
     "data": {
      "image/png": "[encoded data removed]",
      "text/plain": [
       "<Figure size 432x432 with 3 Axes>"
      ]
     },
     "metadata": {
      "needs_background": "light"
     },
     "output_type": "display_data"
    },
    {
     "name": "stdout",
     "output_type": "stream",
     "text": [
      "Restaurant\n"
     ]
    },
    {
     "data": {
      "image/png": "[encoded data removed]",
      "text/plain": [
       "<Figure size 432x432 with 3 Axes>"
      ]
     },
     "metadata": {
      "needs_background": "light"
     },
     "output_type": "display_data"
    }
   ],
   "source": [
    "# plot jointplot for each chain category\n",
    "types = chains_only.reset_index()['object_type'].unique().tolist() # define categories\n",
    "\n",
    "# create a loop to plot a graph for every category\n",
    "\n",
    "for i in types:\n",
    "    slice = chains_only.reset_index()[chains_only.reset_index()['object_type']==i]\n",
    "    name = i\n",
    "    print(name)\n",
    "    sns.jointplot(x='number_est', y='seats_avg', data=slice,kind='reg')\n",
    "    plt.show()"
   ]
  },
  {
   "cell_type": "markdown",
   "metadata": {},
   "source": [
    "In LA most chains doesn't have a lot of branches and they are not big: less than 50 seats on average. However in each market segment chains vary. In Bakery and Bar segments chains are small or only one establishment from the chain is represented in LA, but the size of bakery doesn't depend on the number of establishments in the chain, while in Bars category the bigger the chain the smaller the bar. In Cafe segment we can see several huge chains with a lot of establishments, but they have a small number of seats. In Fast Food with the growth of distribution, the size of a network increases. But Pizza type chains on the contrary have a lot of small establishments. In Restaurant category we see a pattern that there are a lot of chains with small number of establishments, but with more sitting seats."
   ]
  },
  {
   "cell_type": "markdown",
   "metadata": {},
   "source": [
    "#### Number of seats <a id=\"seats\"></a> "
   ]
  },
  {
   "cell_type": "markdown",
   "metadata": {},
   "source": [
    "Determine the average number of seats for each type of restaurant. On average, which type of restaurant has the greatest number of seats?"
   ]
  },
  {
   "cell_type": "code",
   "execution_count": 35,
   "metadata": {},
   "outputs": [
    {
     "data": {
      "image/png": "[encoded data removed]",
      "text/plain": [
       "<Figure size 864x288 with 6 Axes>"
      ]
     },
     "metadata": {
      "needs_background": "light"
     },
     "output_type": "display_data"
    }
   ],
   "source": [
    "# divide establishments by category and chain type and show average number of seats\n",
    "g = sns.FacetGrid(data, col=\"object_type\", height=4, aspect=.5)\n",
    "g.map(sns.barplot, \"chain\", \"number\", order=[True,False])\n",
    "g.fig.subplots_adjust(top=0.8)\n",
    "g.fig.suptitle('Average number of seats by establishment category', fontsize=16)\n",
    "g.set_axis_labels(\"Chain\", \"Average number of seats\")\n",
    "g.set_titles(col_template=\"{col_name}\")\n",
    "plt.savefig('avg_number_seats_by_category.png')\n",
    "plt.show()"
   ]
  },
  {
   "cell_type": "code",
   "execution_count": 36,
   "metadata": {},
   "outputs": [
    {
     "data": {
      "text/html": [
       "<div>\n",
       "<style scoped>\n",
       "    .dataframe tbody tr th:only-of-type {\n",
       "        vertical-align: middle;\n",
       "    }\n",
       "\n",
       "    .dataframe tbody tr th {\n",
       "        vertical-align: top;\n",
       "    }\n",
       "\n",
       "    .dataframe thead th {\n",
       "        text-align: right;\n",
       "    }\n",
       "</style>\n",
       "<table border=\"1\" class=\"dataframe\">\n",
       "  <thead>\n",
       "    <tr style=\"text-align: right;\">\n",
       "      <th>chain</th>\n",
       "      <th>False</th>\n",
       "      <th>True</th>\n",
       "      <th>All</th>\n",
       "    </tr>\n",
       "    <tr>\n",
       "      <th>object_type</th>\n",
       "      <th></th>\n",
       "      <th></th>\n",
       "      <th></th>\n",
       "    </tr>\n",
       "  </thead>\n",
       "  <tbody>\n",
       "    <tr>\n",
       "      <th>Restaurant</th>\n",
       "      <td>50.0</td>\n",
       "      <td>45.0</td>\n",
       "      <td>48.0</td>\n",
       "    </tr>\n",
       "    <tr>\n",
       "      <th>Bar</th>\n",
       "      <td>46.0</td>\n",
       "      <td>40.0</td>\n",
       "      <td>45.0</td>\n",
       "    </tr>\n",
       "    <tr>\n",
       "      <th>All</th>\n",
       "      <td>46.0</td>\n",
       "      <td>40.0</td>\n",
       "      <td>44.0</td>\n",
       "    </tr>\n",
       "    <tr>\n",
       "      <th>Fast Food</th>\n",
       "      <td>24.0</td>\n",
       "      <td>38.0</td>\n",
       "      <td>32.0</td>\n",
       "    </tr>\n",
       "    <tr>\n",
       "      <th>Pizza</th>\n",
       "      <td>31.0</td>\n",
       "      <td>26.0</td>\n",
       "      <td>28.0</td>\n",
       "    </tr>\n",
       "    <tr>\n",
       "      <th>Cafe</th>\n",
       "      <td>24.0</td>\n",
       "      <td>26.0</td>\n",
       "      <td>25.0</td>\n",
       "    </tr>\n",
       "    <tr>\n",
       "      <th>Bakery</th>\n",
       "      <td>0.0</td>\n",
       "      <td>22.0</td>\n",
       "      <td>22.0</td>\n",
       "    </tr>\n",
       "  </tbody>\n",
       "</table>\n",
       "</div>"
      ],
      "text/plain": [
       "chain        False  True   All\n",
       "object_type                   \n",
       "Restaurant    50.0  45.0  48.0\n",
       "Bar           46.0  40.0  45.0\n",
       "All           46.0  40.0  44.0\n",
       "Fast Food     24.0  38.0  32.0\n",
       "Pizza         31.0  26.0  28.0\n",
       "Cafe          24.0  26.0  25.0\n",
       "Bakery         0.0  22.0  22.0"
      ]
     },
     "execution_count": 36,
     "metadata": {},
     "output_type": "execute_result"
    }
   ],
   "source": [
    "# calculate average number of seats in each category \n",
    "seats = data.pivot_table(index='object_type', values='number',columns='chain',\\\n",
    "                         aggfunc='mean',fill_value=0,margins=True).\\\n",
    "                         sort_values(by='All', ascending=False).round(0)\n",
    "seats"
   ]
  },
  {
   "cell_type": "markdown",
   "metadata": {},
   "source": [
    "On average the greatest number of seats have Restaurants of non-chain type - 50 seats and non-chain Bars - 46 seats. The smallest establishments are bakeries - 22 seats on average."
   ]
  },
  {
   "cell_type": "code",
   "execution_count": 37,
   "metadata": {},
   "outputs": [
    {
     "data": {
      "text/html": [
       "<div>\n",
       "<style scoped>\n",
       "    .dataframe tbody tr th:only-of-type {\n",
       "        vertical-align: middle;\n",
       "    }\n",
       "\n",
       "    .dataframe tbody tr th {\n",
       "        vertical-align: top;\n",
       "    }\n",
       "\n",
       "    .dataframe thead th {\n",
       "        text-align: right;\n",
       "    }\n",
       "</style>\n",
       "<table border=\"1\" class=\"dataframe\">\n",
       "  <thead>\n",
       "    <tr style=\"text-align: right;\">\n",
       "      <th></th>\n",
       "      <th>seats_category_few</th>\n",
       "      <th>seats_category_many</th>\n",
       "    </tr>\n",
       "    <tr>\n",
       "      <th>object_type</th>\n",
       "      <th></th>\n",
       "      <th></th>\n",
       "    </tr>\n",
       "  </thead>\n",
       "  <tbody>\n",
       "    <tr>\n",
       "      <th>Cafe</th>\n",
       "      <td>0.960920</td>\n",
       "      <td>0.039080</td>\n",
       "    </tr>\n",
       "    <tr>\n",
       "      <th>Bakery</th>\n",
       "      <td>0.950530</td>\n",
       "      <td>0.049470</td>\n",
       "    </tr>\n",
       "    <tr>\n",
       "      <th>Pizza</th>\n",
       "      <td>0.915625</td>\n",
       "      <td>0.084375</td>\n",
       "    </tr>\n",
       "    <tr>\n",
       "      <th>Fast Food</th>\n",
       "      <td>0.875000</td>\n",
       "      <td>0.125000</td>\n",
       "    </tr>\n",
       "    <tr>\n",
       "      <th>Bar</th>\n",
       "      <td>0.767123</td>\n",
       "      <td>0.232877</td>\n",
       "    </tr>\n",
       "    <tr>\n",
       "      <th>Restaurant</th>\n",
       "      <td>0.761544</td>\n",
       "      <td>0.238456</td>\n",
       "    </tr>\n",
       "  </tbody>\n",
       "</table>\n",
       "</div>"
      ],
      "text/plain": [
       "             seats_category_few  seats_category_many\n",
       "object_type                                         \n",
       "Cafe                   0.960920             0.039080\n",
       "Bakery                 0.950530             0.049470\n",
       "Pizza                  0.915625             0.084375\n",
       "Fast Food              0.875000             0.125000\n",
       "Bar                    0.767123             0.232877\n",
       "Restaurant             0.761544             0.238456"
      ]
     },
     "execution_count": 37,
     "metadata": {},
     "output_type": "execute_result"
    }
   ],
   "source": [
    "# calculate proportions of small and big establishments (by the number of seats)\n",
    "# in each category\n",
    "category_seats = data[['object_type', 'seats_category']] \n",
    "\n",
    "# convert categorical variable into dummy variables\n",
    "category_seats = pd.get_dummies(category_seats,\n",
    "                                    columns=['seats_category']).copy()\n",
    "# make a pivot\n",
    "category_seats_pivot = category_seats.groupby('object_type').mean().\\\n",
    "                                      sort_values('seats_category_many')\n",
    "category_seats_pivot"
   ]
  },
  {
   "cell_type": "code",
   "execution_count": 38,
   "metadata": {},
   "outputs": [
    {
     "data": {
      "image/png": "[encoded data removed]",
      "text/plain": [
       "<Figure size 936x432 with 1 Axes>"
      ]
     },
     "metadata": {
      "needs_background": "light"
     },
     "output_type": "display_data"
    }
   ],
   "source": [
    "# plot a stacked bar chart to show the proportion of many and few seats in each category\n",
    "fig, ax = plt.subplots(figsize=(13,6))\n",
    "category_seats_pivot.plot.barh(stacked=True, ax=ax, alpha=.9)\n",
    "\n",
    "#spines and grid\n",
    "sns.despine()\n",
    "plt.grid(False, axis='y')\n",
    "plt.grid(axis='x', alpha=.3)\n",
    "ax.spines['left'].set_color('lightgray')\n",
    "ax.spines['bottom'].set_color('lightgray')\n",
    "plt.legend(['Few < 50', 'Many > 60'],\n",
    "           shadow=True,\n",
    "           fancybox=True,\n",
    "           title='Seats',\n",
    "           facecolor='white',\n",
    "           fontsize=12,\n",
    "           bbox_to_anchor=(0, 0, 1.14, 1))\n",
    "\n",
    "#tick\n",
    "ax.tick_params(labelsize=12)\n",
    "ax.xaxis.set_major_locator(ticker.MultipleLocator(.10))\n",
    "ax.xaxis.set_major_formatter(ticker.PercentFormatter(1))\n",
    "\n",
    "#labels and title\n",
    "plt.ylabel('')\n",
    "plt.xlabel('Proportion', labelpad=12, fontsize=12)\n",
    "plt.suptitle(\"Sizes of establishments by the number of seats\",fontsize=16)\n",
    "plt.savefig('sizes of establishments.png')\n",
    "plt.show()"
   ]
  },
  {
   "cell_type": "markdown",
   "metadata": {},
   "source": [
    "In each category establishments with small number of seats are prevalent. Among restaurants and bars slightly less than 25% have a lot of seats and in cafes category only 4% of establishments have number of seats greater than 60."
   ]
  },
  {
   "cell_type": "markdown",
   "metadata": {},
   "source": [
    "#### Streets analysis<a id=\"streets\"></a> "
   ]
  },
  {
   "cell_type": "markdown",
   "metadata": {},
   "source": [
    "- Put the data on street names from the address column in a separate column.\n",
    "- Plot a graph of the top ten streets by number of restaurants.\n",
    "- Find the number of streets that only have one restaurant.\n",
    "- For streets with a lot of restaurants, look at the distribution of the number of seats.  What are the trends?"
   ]
  },
  {
   "cell_type": "code",
   "execution_count": 39,
   "metadata": {},
   "outputs": [],
   "source": [
    "# define list with endings of streets\n",
    "endings = ['BLVD','ST','AVE','RD','DR','WAY']"
   ]
  },
  {
   "cell_type": "code",
   "execution_count": 40,
   "metadata": {},
   "outputs": [],
   "source": [
    "# define a function to get street name\n",
    "def get_street(x):\n",
    "    split_address = x.replace(\"#\", \"\").replace(\"/\", \"\").split()\n",
    "    new = []\n",
    "    for i in split_address:\n",
    "        if i.isdigit():\n",
    "            continue\n",
    "        else:\n",
    "            new.append(i)\n",
    "    return ' '.join(new)"
   ]
  },
  {
   "cell_type": "code",
   "execution_count": 41,
   "metadata": {},
   "outputs": [],
   "source": [
    "# define a function to filter the results with street names\n",
    "def filters(extra):\n",
    "    new= []\n",
    "    y=extra.split(' ')\n",
    "    for i in y:\n",
    "        if i in endings and i != 'STE': \n",
    "            new.append(i)\n",
    "            return \" \".join(new)\n",
    "        elif i == 'STE':\n",
    "            return \" \".join(new)\n",
    "        new.append(i)\n",
    "    return \" \".join(new)                "
   ]
  },
  {
   "cell_type": "code",
   "execution_count": 42,
   "metadata": {},
   "outputs": [],
   "source": [
    "# apply both functions to address column\n",
    "data['street'] = data['address'].apply(lambda x: get_street(x)).apply(lambda x: filters(x))\n",
    "data['street'] = data['street'].str.upper() # all street names capitalized"
   ]
  },
  {
   "cell_type": "code",
   "execution_count": 43,
   "metadata": {},
   "outputs": [
    {
     "data": {
      "text/plain": [
       "S BROADWAY    123\n",
       "N BROADWAY     77\n",
       "BROADWAY       12\n",
       "Name: street, dtype: int64"
      ]
     },
     "execution_count": 43,
     "metadata": {},
     "output_type": "execute_result"
    }
   ],
   "source": [
    "# final cleaning of the streets\n",
    "data['street'] = data['street'].str.replace(r'(^.*S BROADWAY.*$)', 'S BROADWAY')\n",
    "data['street'] = data['street'].str.replace(r'(^.*N BROADWAY.*$)', 'N BROADWAY')\n",
    "data['street'] = data['street'].str.replace(r'(^BROADWAY.*$)', 'BROADWAY')\n",
    "data['street'] = data['street'].str.replace(r'(^.*ASTRONAUT.*$)', 'ASTRONAUT E S ONIZUKA ST')\n",
    "data['street'] = data['street'].str.replace(r'(^.*JAPANESE.*$)', 'JAPANESE VLG')\n",
    "data['street'] = data['street'].str.replace(r'(^.*WESTWOOD.*$)', 'WESTWOOD')\n",
    "data['street'] = data['street'].str.replace(r'(^.*CENTURY PARK.*$)', 'E CENTURY PARK')\n",
    "\n",
    "# check result\n",
    "data[data['street'].str.contains(\"BROADWAY\")]['street'].value_counts()"
   ]
  },
  {
   "cell_type": "code",
   "execution_count": 44,
   "metadata": {
    "scrolled": true
   },
   "outputs": [
    {
     "data": {
      "text/plain": [
       "WILSHIRE BLVD        384\n",
       "W SUNSET BLVD        369\n",
       "W PICO BLVD          343\n",
       "S WESTERN AVE        277\n",
       "SANTA MONICA BLVD    262\n",
       "HOLLYWOOD BLVD       242\n",
       "W OLYMPIC BLVD       234\n",
       "W 3RD ST             231\n",
       "S FIGUEROA ST        228\n",
       "W 6TH ST             214\n",
       "Name: street, dtype: int64"
      ]
     },
     "execution_count": 44,
     "metadata": {},
     "output_type": "execute_result"
    }
   ],
   "source": [
    "# show streets' names extracted from address\n",
    "data['street'].sort_values().value_counts().head(10)"
   ]
  },
  {
   "cell_type": "code",
   "execution_count": 45,
   "metadata": {},
   "outputs": [
    {
     "data": {
      "text/html": [
       "<div>\n",
       "<style scoped>\n",
       "    .dataframe tbody tr th:only-of-type {\n",
       "        vertical-align: middle;\n",
       "    }\n",
       "\n",
       "    .dataframe tbody tr th {\n",
       "        vertical-align: top;\n",
       "    }\n",
       "\n",
       "    .dataframe thead th {\n",
       "        text-align: right;\n",
       "    }\n",
       "</style>\n",
       "<table border=\"1\" class=\"dataframe\">\n",
       "  <thead>\n",
       "    <tr style=\"text-align: right;\">\n",
       "      <th></th>\n",
       "      <th>street</th>\n",
       "      <th>rest_quantity</th>\n",
       "    </tr>\n",
       "  </thead>\n",
       "  <tbody>\n",
       "    <tr>\n",
       "      <th>720</th>\n",
       "      <td>WILSHIRE BLVD</td>\n",
       "      <td>384</td>\n",
       "    </tr>\n",
       "    <tr>\n",
       "      <th>688</th>\n",
       "      <td>W SUNSET BLVD</td>\n",
       "      <td>369</td>\n",
       "    </tr>\n",
       "    <tr>\n",
       "      <th>683</th>\n",
       "      <td>W PICO BLVD</td>\n",
       "      <td>343</td>\n",
       "    </tr>\n",
       "    <tr>\n",
       "      <th>542</th>\n",
       "      <td>S WESTERN AVE</td>\n",
       "      <td>277</td>\n",
       "    </tr>\n",
       "    <tr>\n",
       "      <th>553</th>\n",
       "      <td>SANTA MONICA BLVD</td>\n",
       "      <td>262</td>\n",
       "    </tr>\n",
       "    <tr>\n",
       "      <th>203</th>\n",
       "      <td>HOLLYWOOD BLVD</td>\n",
       "      <td>242</td>\n",
       "    </tr>\n",
       "    <tr>\n",
       "      <th>682</th>\n",
       "      <td>W OLYMPIC BLVD</td>\n",
       "      <td>234</td>\n",
       "    </tr>\n",
       "    <tr>\n",
       "      <th>614</th>\n",
       "      <td>W 3RD ST</td>\n",
       "      <td>231</td>\n",
       "    </tr>\n",
       "    <tr>\n",
       "      <th>459</th>\n",
       "      <td>S FIGUEROA ST</td>\n",
       "      <td>228</td>\n",
       "    </tr>\n",
       "    <tr>\n",
       "      <th>620</th>\n",
       "      <td>W 6TH ST</td>\n",
       "      <td>214</td>\n",
       "    </tr>\n",
       "  </tbody>\n",
       "</table>\n",
       "</div>"
      ],
      "text/plain": [
       "                street  rest_quantity\n",
       "720      WILSHIRE BLVD            384\n",
       "688      W SUNSET BLVD            369\n",
       "683        W PICO BLVD            343\n",
       "542      S WESTERN AVE            277\n",
       "553  SANTA MONICA BLVD            262\n",
       "203     HOLLYWOOD BLVD            242\n",
       "682     W OLYMPIC BLVD            234\n",
       "614           W 3RD ST            231\n",
       "459      S FIGUEROA ST            228\n",
       "620           W 6TH ST            214"
      ]
     },
     "execution_count": 45,
     "metadata": {},
     "output_type": "execute_result"
    }
   ],
   "source": [
    "# calculate number of establishments on each street and show top 10 streets\n",
    "number = data.groupby('street',as_index=False)['id'].agg('count').\\\n",
    "              rename(columns={'id':'rest_quantity'}).\\\n",
    "              sort_values(by='rest_quantity',ascending=False)\n",
    "\n",
    "number.nlargest(10,'rest_quantity')"
   ]
  },
  {
   "cell_type": "code",
   "execution_count": 46,
   "metadata": {},
   "outputs": [
    {
     "data": {
      "text/plain": [
       "['WILSHIRE BLVD',\n",
       " 'W SUNSET BLVD',\n",
       " 'W PICO BLVD',\n",
       " 'S WESTERN AVE',\n",
       " 'SANTA MONICA BLVD',\n",
       " 'HOLLYWOOD BLVD',\n",
       " 'W OLYMPIC BLVD',\n",
       " 'W 3RD ST',\n",
       " 'S FIGUEROA ST',\n",
       " 'W 6TH ST']"
      ]
     },
     "execution_count": 46,
     "metadata": {},
     "output_type": "execute_result"
    }
   ],
   "source": [
    "# create a list with street's names\n",
    "top_10 =number.nlargest(10,'rest_quantity')['street'].tolist() \n",
    "top_10"
   ]
  },
  {
   "cell_type": "code",
   "execution_count": 47,
   "metadata": {},
   "outputs": [
    {
     "data": {
      "text/html": [
       "<div>\n",
       "<style scoped>\n",
       "    .dataframe tbody tr th:only-of-type {\n",
       "        vertical-align: middle;\n",
       "    }\n",
       "\n",
       "    .dataframe tbody tr th {\n",
       "        vertical-align: top;\n",
       "    }\n",
       "\n",
       "    .dataframe thead th {\n",
       "        text-align: right;\n",
       "    }\n",
       "</style>\n",
       "<table border=\"1\" class=\"dataframe\">\n",
       "  <thead>\n",
       "    <tr style=\"text-align: right;\">\n",
       "      <th></th>\n",
       "      <th>street</th>\n",
       "      <th>Non_chain</th>\n",
       "      <th>Chain</th>\n",
       "      <th>Total</th>\n",
       "    </tr>\n",
       "  </thead>\n",
       "  <tbody>\n",
       "    <tr>\n",
       "      <th>9</th>\n",
       "      <td>WILSHIRE BLVD</td>\n",
       "      <td>238</td>\n",
       "      <td>146</td>\n",
       "      <td>384</td>\n",
       "    </tr>\n",
       "    <tr>\n",
       "      <th>8</th>\n",
       "      <td>W SUNSET BLVD</td>\n",
       "      <td>232</td>\n",
       "      <td>137</td>\n",
       "      <td>369</td>\n",
       "    </tr>\n",
       "    <tr>\n",
       "      <th>7</th>\n",
       "      <td>W PICO BLVD</td>\n",
       "      <td>230</td>\n",
       "      <td>113</td>\n",
       "      <td>343</td>\n",
       "    </tr>\n",
       "    <tr>\n",
       "      <th>2</th>\n",
       "      <td>S WESTERN AVE</td>\n",
       "      <td>173</td>\n",
       "      <td>104</td>\n",
       "      <td>277</td>\n",
       "    </tr>\n",
       "    <tr>\n",
       "      <th>3</th>\n",
       "      <td>SANTA MONICA BLVD</td>\n",
       "      <td>158</td>\n",
       "      <td>104</td>\n",
       "      <td>262</td>\n",
       "    </tr>\n",
       "    <tr>\n",
       "      <th>0</th>\n",
       "      <td>HOLLYWOOD BLVD</td>\n",
       "      <td>160</td>\n",
       "      <td>82</td>\n",
       "      <td>242</td>\n",
       "    </tr>\n",
       "    <tr>\n",
       "      <th>6</th>\n",
       "      <td>W OLYMPIC BLVD</td>\n",
       "      <td>152</td>\n",
       "      <td>82</td>\n",
       "      <td>234</td>\n",
       "    </tr>\n",
       "    <tr>\n",
       "      <th>4</th>\n",
       "      <td>W 3RD ST</td>\n",
       "      <td>149</td>\n",
       "      <td>82</td>\n",
       "      <td>231</td>\n",
       "    </tr>\n",
       "    <tr>\n",
       "      <th>1</th>\n",
       "      <td>S FIGUEROA ST</td>\n",
       "      <td>131</td>\n",
       "      <td>97</td>\n",
       "      <td>228</td>\n",
       "    </tr>\n",
       "    <tr>\n",
       "      <th>5</th>\n",
       "      <td>W 6TH ST</td>\n",
       "      <td>142</td>\n",
       "      <td>72</td>\n",
       "      <td>214</td>\n",
       "    </tr>\n",
       "  </tbody>\n",
       "</table>\n",
       "</div>"
      ],
      "text/plain": [
       "              street  Non_chain  Chain  Total\n",
       "9      WILSHIRE BLVD        238    146    384\n",
       "8      W SUNSET BLVD        232    137    369\n",
       "7        W PICO BLVD        230    113    343\n",
       "2      S WESTERN AVE        173    104    277\n",
       "3  SANTA MONICA BLVD        158    104    262\n",
       "0     HOLLYWOOD BLVD        160     82    242\n",
       "6     W OLYMPIC BLVD        152     82    234\n",
       "4           W 3RD ST        149     82    231\n",
       "1      S FIGUEROA ST        131     97    228\n",
       "5           W 6TH ST        142     72    214"
      ]
     },
     "execution_count": 47,
     "metadata": {},
     "output_type": "execute_result"
    }
   ],
   "source": [
    "# separate establishments to chain and non-chain types, get quantity \n",
    "top_10_data = data.query('street in @top_10').pivot_table(index='street',\n",
    "                                                          values='id',columns='chain',\n",
    "                                                          aggfunc='count',fill_value=0,\n",
    "                                                          margins=True,margins_name='Total').reset_index()\n",
    "top_10_data = top_10_data.iloc[:-1,:].sort_values(by='Total',ascending=False)\n",
    "top_10_data.columns=['street','Non_chain','Chain','Total']\n",
    "top_10_data"
   ]
  },
  {
   "cell_type": "code",
   "execution_count": 48,
   "metadata": {
    "scrolled": false
   },
   "outputs": [
    {
     "data": {
      "image/png": "[encoded data removed]",
      "text/plain": [
       "<Figure size 1008x504 with 1 Axes>"
      ]
     },
     "metadata": {
      "needs_background": "light"
     },
     "output_type": "display_data"
    }
   ],
   "source": [
    "# plot a barchart showing top 10 streets and number of establishments \n",
    "\n",
    "sns.set_context('paper')\n",
    "f, ax = plt.subplots(figsize = (14,7))\n",
    "sns.set_color_codes('pastel')\n",
    "#ax.set_facecolor(\"ghostwhite\")\n",
    "sns.barplot(x = 'Total', y = 'street', data = top_10_data,\n",
    "            label = 'Chain type', color = 'b', edgecolor = 'w')\n",
    "for p in ax.patches:\n",
    "    width = p.get_width()    # get bar length\n",
    "    ax.text(width + 1,       # set the text at 1 unit right of the bar\n",
    "            p.get_y() + p.get_height() / 2, # get Y coordinate + X coordinate / 2\n",
    "            '{:.0f}'.format(width), # set variable to display, 2 decimals\n",
    "            ha = 'left',   # horizontal alignment\n",
    "            va = 'center')  # vertical alignment \n",
    "    \n",
    "sns.set_color_codes('muted')\n",
    "sns.barplot(x = 'Non_chain', y = 'street', data = top_10_data,\n",
    "            label = 'Non-chain type', color = 'b', edgecolor = 'w')\n",
    "ax.legend(ncol = 2, loc = 'lower right')\n",
    "sns.despine(left = True, bottom = True)\n",
    "ax.xaxis.set_major_locator(ticker.MultipleLocator(25))\n",
    "ax.tick_params(axis='both', left=False, bottom=False, labelsize='12')\n",
    "ax.spines['left'].set_color('lightgray')\n",
    "ax.spines['bottom'].set_color('lightgray')\n",
    "plt.grid(False, axis='x')\n",
    "plt.ylabel('', labelpad=15, fontsize=12)\n",
    "plt.xlabel('Number of Establishments',labelpad=10,size=12)\n",
    "plt.title(\"Top 10 Streets With Highest Establishment Concentrations\",\n",
    "          fontsize=18,\n",
    "          x=.42,\n",
    "          pad=25)\n",
    "         \n",
    "plt.savefig(\"top_10_streets.png\")\n",
    "plt.show()"
   ]
  },
  {
   "cell_type": "markdown",
   "metadata": {},
   "source": [
    "Above mentioned streets have the highest establishment concentration: from 200 and up to almost 400 establishments on each. Planning to open a new establishment on these streets, there is need to be ready to a high competition. But at the same time high traffic of customers will be ensured on these streets. "
   ]
  },
  {
   "cell_type": "code",
   "execution_count": 49,
   "metadata": {},
   "outputs": [
    {
     "name": "stdout",
     "output_type": "stream",
     "text": [
      "The total number of streets: 732\n",
      "Number of streets with 1 establishment: 321\n",
      "Proportion of streets with 1 establishment: 44%\n"
     ]
    }
   ],
   "source": [
    "# find the number of streets wich have only 1 restaurants\n",
    "print('The total number of streets:',len(number['street']))\n",
    "print('Number of streets with 1 establishment:', len(number[number['rest_quantity']==1]))\n",
    "print('Proportion of streets with 1 establishment:','{:.0%}'.format(\n",
    "       len(number[number['rest_quantity']==1]) / \n",
    "       len(number['street'])))\n"
   ]
  },
  {
   "cell_type": "markdown",
   "metadata": {},
   "source": [
    "Out of all 732 streets analyzed 44% of them have only 1 establishment."
   ]
  },
  {
   "cell_type": "code",
   "execution_count": 50,
   "metadata": {},
   "outputs": [
    {
     "data": {
      "text/html": [
       "<div>\n",
       "<style scoped>\n",
       "    .dataframe tbody tr th:only-of-type {\n",
       "        vertical-align: middle;\n",
       "    }\n",
       "\n",
       "    .dataframe tbody tr th {\n",
       "        vertical-align: top;\n",
       "    }\n",
       "\n",
       "    .dataframe thead th {\n",
       "        text-align: right;\n",
       "    }\n",
       "</style>\n",
       "<table border=\"1\" class=\"dataframe\">\n",
       "  <thead>\n",
       "    <tr style=\"text-align: right;\">\n",
       "      <th>object_type</th>\n",
       "      <th>street</th>\n",
       "      <th>Bakery</th>\n",
       "      <th>Bar</th>\n",
       "      <th>Cafe</th>\n",
       "      <th>Fast Food</th>\n",
       "      <th>Pizza</th>\n",
       "      <th>Restaurant</th>\n",
       "      <th>Total</th>\n",
       "    </tr>\n",
       "  </thead>\n",
       "  <tbody>\n",
       "    <tr>\n",
       "      <th>720</th>\n",
       "      <td>WILSHIRE BLVD</td>\n",
       "      <td>5</td>\n",
       "      <td>10</td>\n",
       "      <td>24</td>\n",
       "      <td>25</td>\n",
       "      <td>11</td>\n",
       "      <td>309</td>\n",
       "      <td>384</td>\n",
       "    </tr>\n",
       "    <tr>\n",
       "      <th>688</th>\n",
       "      <td>W SUNSET BLVD</td>\n",
       "      <td>12</td>\n",
       "      <td>13</td>\n",
       "      <td>24</td>\n",
       "      <td>31</td>\n",
       "      <td>17</td>\n",
       "      <td>272</td>\n",
       "      <td>369</td>\n",
       "    </tr>\n",
       "    <tr>\n",
       "      <th>683</th>\n",
       "      <td>W PICO BLVD</td>\n",
       "      <td>13</td>\n",
       "      <td>11</td>\n",
       "      <td>13</td>\n",
       "      <td>31</td>\n",
       "      <td>18</td>\n",
       "      <td>257</td>\n",
       "      <td>343</td>\n",
       "    </tr>\n",
       "    <tr>\n",
       "      <th>542</th>\n",
       "      <td>S WESTERN AVE</td>\n",
       "      <td>10</td>\n",
       "      <td>5</td>\n",
       "      <td>9</td>\n",
       "      <td>24</td>\n",
       "      <td>10</td>\n",
       "      <td>219</td>\n",
       "      <td>277</td>\n",
       "    </tr>\n",
       "    <tr>\n",
       "      <th>553</th>\n",
       "      <td>SANTA MONICA BLVD</td>\n",
       "      <td>9</td>\n",
       "      <td>6</td>\n",
       "      <td>11</td>\n",
       "      <td>20</td>\n",
       "      <td>12</td>\n",
       "      <td>204</td>\n",
       "      <td>262</td>\n",
       "    </tr>\n",
       "    <tr>\n",
       "      <th>...</th>\n",
       "      <td>...</td>\n",
       "      <td>...</td>\n",
       "      <td>...</td>\n",
       "      <td>...</td>\n",
       "      <td>...</td>\n",
       "      <td>...</td>\n",
       "      <td>...</td>\n",
       "      <td>...</td>\n",
       "    </tr>\n",
       "    <tr>\n",
       "      <th>454</th>\n",
       "      <td>S DOHENY DR</td>\n",
       "      <td></td>\n",
       "      <td></td>\n",
       "      <td></td>\n",
       "      <td></td>\n",
       "      <td></td>\n",
       "      <td>1</td>\n",
       "      <td>1</td>\n",
       "    </tr>\n",
       "    <tr>\n",
       "      <th>453</th>\n",
       "      <td>S CROCKER ST</td>\n",
       "      <td></td>\n",
       "      <td></td>\n",
       "      <td></td>\n",
       "      <td></td>\n",
       "      <td></td>\n",
       "      <td>1</td>\n",
       "      <td>1</td>\n",
       "    </tr>\n",
       "    <tr>\n",
       "      <th>204</th>\n",
       "      <td>HOLMES AVE</td>\n",
       "      <td></td>\n",
       "      <td></td>\n",
       "      <td></td>\n",
       "      <td></td>\n",
       "      <td></td>\n",
       "      <td>1</td>\n",
       "      <td>1</td>\n",
       "    </tr>\n",
       "    <tr>\n",
       "      <th>450</th>\n",
       "      <td>S COMMONWEALTH AVE</td>\n",
       "      <td></td>\n",
       "      <td></td>\n",
       "      <td></td>\n",
       "      <td></td>\n",
       "      <td></td>\n",
       "      <td>1</td>\n",
       "      <td>1</td>\n",
       "    </tr>\n",
       "    <tr>\n",
       "      <th>731</th>\n",
       "      <td>ZOO DR</td>\n",
       "      <td></td>\n",
       "      <td></td>\n",
       "      <td></td>\n",
       "      <td></td>\n",
       "      <td></td>\n",
       "      <td>1</td>\n",
       "      <td>1</td>\n",
       "    </tr>\n",
       "  </tbody>\n",
       "</table>\n",
       "<p>732 rows × 8 columns</p>\n",
       "</div>"
      ],
      "text/plain": [
       "object_type              street Bakery Bar Cafe Fast Food Pizza Restaurant  \\\n",
       "720               WILSHIRE BLVD      5  10   24        25    11        309   \n",
       "688               W SUNSET BLVD     12  13   24        31    17        272   \n",
       "683                 W PICO BLVD     13  11   13        31    18        257   \n",
       "542               S WESTERN AVE     10   5    9        24    10        219   \n",
       "553           SANTA MONICA BLVD      9   6   11        20    12        204   \n",
       "..                          ...    ...  ..  ...       ...   ...        ...   \n",
       "454                 S DOHENY DR                                          1   \n",
       "453                S CROCKER ST                                          1   \n",
       "204                  HOLMES AVE                                          1   \n",
       "450          S COMMONWEALTH AVE                                          1   \n",
       "731                      ZOO DR                                          1   \n",
       "\n",
       "object_type  Total  \n",
       "720            384  \n",
       "688            369  \n",
       "683            343  \n",
       "542            277  \n",
       "553            262  \n",
       "..             ...  \n",
       "454              1  \n",
       "453              1  \n",
       "204              1  \n",
       "450              1  \n",
       "731              1  \n",
       "\n",
       "[732 rows x 8 columns]"
      ]
     },
     "execution_count": 50,
     "metadata": {},
     "output_type": "execute_result"
    }
   ],
   "source": [
    "# calculate the number of each establishment type in each street \n",
    "streets_by_type_count = data.pivot_table(index=['street'],columns='object_type',\\\n",
    "                                         values='id',aggfunc='count',fill_value='',\\\n",
    "                                         margins=True,margins_name=\"Total\").reset_index()\n",
    "streets_by_type_count=streets_by_type_count.iloc[:-1,:]\n",
    "streets_by_type_count.sort_values(by='Total',ascending=False)"
   ]
  },
  {
   "cell_type": "code",
   "execution_count": 51,
   "metadata": {
    "scrolled": true
   },
   "outputs": [
    {
     "name": "stdout",
     "output_type": "stream",
     "text": [
      "The number of streets which have only one Restaurant is: 305\n"
     ]
    }
   ],
   "source": [
    "print('The number of streets which have only one Restaurant is:',len(streets_by_type_count.query('Restaurant==1')))"
   ]
  },
  {
   "cell_type": "code",
   "execution_count": 52,
   "metadata": {},
   "outputs": [
    {
     "name": "stdout",
     "output_type": "stream",
     "text": [
      "['5TH ST', '7TH ST', 'ABBOT KINNEY', 'ACADEMY DR', 'ALBANY ST', 'ALLISON AVE', 'ALLSTON ST', 'ALTURA ST', 'ARBOR VITAE ST', 'AVENUE OF THE STARS A', 'AVIATION BLVD', 'BARHAM BLVD', 'BARRINGTON AVE', 'BARTON AVE', 'BEATRICE ST', 'BELLAGIO RD', 'BEVERLY BLV', 'BEVERWIL DR', 'BISHOPS RD', 'BLAINE ST']\n"
     ]
    }
   ],
   "source": [
    "# list with the street's names which have only 1 restaurant\n",
    "streets_one_restaurant = streets_by_type_count.query('Restaurant==1')['street'].sort_values().tolist()\n",
    "print(streets_one_restaurant[:20])"
   ]
  },
  {
   "cell_type": "markdown",
   "metadata": {},
   "source": [
    "Some streets can really have only one restaurant, for example: 5TH ST, 7TH ST, BELLAGIO RD, etc. But from the other hand, there are inaccurate data in address column, some streets have different spelling, mistakes in spelling or zeroes instead of letters 'OO': like MILLENIUM DR and MILLENNIUM DR, GRIFFIN AVE and GRIFFITH AVE, IMPERIAL HWY and IMPERIAL ST, JAMES M. WOOD BLVD and JAMES WOOD BLVD, Z00 DR and ZOO DR. This is the reason why such streets were counted only once.\n"
   ]
  },
  {
   "cell_type": "code",
   "execution_count": 53,
   "metadata": {},
   "outputs": [
    {
     "data": {
      "text/html": [
       "<div>\n",
       "<style scoped>\n",
       "    .dataframe tbody tr th:only-of-type {\n",
       "        vertical-align: middle;\n",
       "    }\n",
       "\n",
       "    .dataframe tbody tr th {\n",
       "        vertical-align: top;\n",
       "    }\n",
       "\n",
       "    .dataframe thead th {\n",
       "        text-align: right;\n",
       "    }\n",
       "</style>\n",
       "<table border=\"1\" class=\"dataframe\">\n",
       "  <thead>\n",
       "    <tr style=\"text-align: right;\">\n",
       "      <th>object_type</th>\n",
       "      <th>street</th>\n",
       "      <th>Bakery</th>\n",
       "      <th>Bar</th>\n",
       "      <th>Cafe</th>\n",
       "      <th>Fast Food</th>\n",
       "      <th>Pizza</th>\n",
       "      <th>Restaurant</th>\n",
       "      <th>Total</th>\n",
       "    </tr>\n",
       "  </thead>\n",
       "  <tbody>\n",
       "    <tr>\n",
       "      <th>95</th>\n",
       "      <td>E 1ST ST</td>\n",
       "      <td>7</td>\n",
       "      <td>3</td>\n",
       "      <td>1</td>\n",
       "      <td>11</td>\n",
       "      <td>4</td>\n",
       "      <td>85</td>\n",
       "      <td>111</td>\n",
       "    </tr>\n",
       "    <tr>\n",
       "      <th>297</th>\n",
       "      <td>N BROADWAY</td>\n",
       "      <td>7</td>\n",
       "      <td></td>\n",
       "      <td>1</td>\n",
       "      <td>8</td>\n",
       "      <td></td>\n",
       "      <td>61</td>\n",
       "      <td>77</td>\n",
       "    </tr>\n",
       "    <tr>\n",
       "      <th>121</th>\n",
       "      <td>E CESAR E CHAVEZ AVE</td>\n",
       "      <td>4</td>\n",
       "      <td>2</td>\n",
       "      <td>1</td>\n",
       "      <td>12</td>\n",
       "      <td>6</td>\n",
       "      <td>46</td>\n",
       "      <td>71</td>\n",
       "    </tr>\n",
       "    <tr>\n",
       "      <th>695</th>\n",
       "      <td>W WASHINGTON BLVD</td>\n",
       "      <td>6</td>\n",
       "      <td></td>\n",
       "      <td>1</td>\n",
       "      <td>9</td>\n",
       "      <td>4</td>\n",
       "      <td>49</td>\n",
       "      <td>69</td>\n",
       "    </tr>\n",
       "    <tr>\n",
       "      <th>494</th>\n",
       "      <td>S MAIN ST</td>\n",
       "      <td>3</td>\n",
       "      <td>3</td>\n",
       "      <td>1</td>\n",
       "      <td>3</td>\n",
       "      <td></td>\n",
       "      <td>53</td>\n",
       "      <td>63</td>\n",
       "    </tr>\n",
       "    <tr>\n",
       "      <th>556</th>\n",
       "      <td>SAWTELLE BLVD</td>\n",
       "      <td>1</td>\n",
       "      <td>1</td>\n",
       "      <td>1</td>\n",
       "      <td>5</td>\n",
       "      <td></td>\n",
       "      <td>47</td>\n",
       "      <td>55</td>\n",
       "    </tr>\n",
       "    <tr>\n",
       "      <th>726</th>\n",
       "      <td>YORK BLVD</td>\n",
       "      <td></td>\n",
       "      <td>2</td>\n",
       "      <td>1</td>\n",
       "      <td>7</td>\n",
       "      <td>2</td>\n",
       "      <td>38</td>\n",
       "      <td>50</td>\n",
       "    </tr>\n",
       "    <tr>\n",
       "      <th>629</th>\n",
       "      <td>W ADAMS BLVD</td>\n",
       "      <td>2</td>\n",
       "      <td></td>\n",
       "      <td>1</td>\n",
       "      <td>3</td>\n",
       "      <td>1</td>\n",
       "      <td>36</td>\n",
       "      <td>43</td>\n",
       "    </tr>\n",
       "    <tr>\n",
       "      <th>73</th>\n",
       "      <td>CRENSHAW BLVD</td>\n",
       "      <td></td>\n",
       "      <td>1</td>\n",
       "      <td>1</td>\n",
       "      <td>11</td>\n",
       "      <td>3</td>\n",
       "      <td>27</td>\n",
       "      <td>43</td>\n",
       "    </tr>\n",
       "    <tr>\n",
       "      <th>369</th>\n",
       "      <td>N VINE ST</td>\n",
       "      <td></td>\n",
       "      <td>2</td>\n",
       "      <td>1</td>\n",
       "      <td>4</td>\n",
       "      <td></td>\n",
       "      <td>35</td>\n",
       "      <td>42</td>\n",
       "    </tr>\n",
       "  </tbody>\n",
       "</table>\n",
       "</div>"
      ],
      "text/plain": [
       "object_type                street Bakery Bar Cafe Fast Food Pizza Restaurant  \\\n",
       "95                       E 1ST ST      7   3    1        11     4         85   \n",
       "297                    N BROADWAY      7        1         8               61   \n",
       "121          E CESAR E CHAVEZ AVE      4   2    1        12     6         46   \n",
       "695             W WASHINGTON BLVD      6        1         9     4         49   \n",
       "494                     S MAIN ST      3   3    1         3               53   \n",
       "556                 SAWTELLE BLVD      1   1    1         5               47   \n",
       "726                     YORK BLVD          2    1         7     2         38   \n",
       "629                  W ADAMS BLVD      2        1         3     1         36   \n",
       "73                  CRENSHAW BLVD          1    1        11     3         27   \n",
       "369                     N VINE ST          2    1         4               35   \n",
       "\n",
       "object_type  Total  \n",
       "95             111  \n",
       "297             77  \n",
       "121             71  \n",
       "695             69  \n",
       "494             63  \n",
       "556             55  \n",
       "726             50  \n",
       "629             43  \n",
       "73              43  \n",
       "369             42  "
      ]
     },
     "execution_count": 53,
     "metadata": {},
     "output_type": "execute_result"
    }
   ],
   "source": [
    "# since we are interested in Cafe type category, let's find streets wich have a big number of establishments, but only 1 Cafe\n",
    "streets_by_type_count[streets_by_type_count['Cafe']==1].sort_values(by='Total',ascending=False).head(10)"
   ]
  },
  {
   "cell_type": "markdown",
   "metadata": {},
   "source": [
    "Above mentioned streets are good to open a Cafe. High customer traffic and low concurention."
   ]
  },
  {
   "cell_type": "code",
   "execution_count": 54,
   "metadata": {},
   "outputs": [
    {
     "data": {
      "image/png": "[encoded data removed]",
      "text/plain": [
       "<Figure size 432x288 with 1 Axes>"
      ]
     },
     "metadata": {
      "needs_background": "light"
     },
     "output_type": "display_data"
    }
   ],
   "source": [
    "# look at the distribution of establishments to define category \"a lot\" of establishments\n",
    "# and separate streets into two groups 'few' and 'many' establishments number\n",
    "streets_by_type_count['Total'].hist(bins=30)\n",
    "plt.axvline(streets_by_type_count['Total'].quantile(.68))\n",
    "plt.xlim(0,streets_by_type_count['Total'].max())\n",
    "plt.show()"
   ]
  },
  {
   "cell_type": "code",
   "execution_count": 55,
   "metadata": {},
   "outputs": [
    {
     "data": {
      "image/png": "[encoded data removed]",
      "text/plain": [
       "<Figure size 432x288 with 1 Axes>"
      ]
     },
     "metadata": {
      "needs_background": "light"
     },
     "output_type": "display_data"
    }
   ],
   "source": [
    "# the same plot with x- axis limit to 50\n",
    "streets_by_type_count['Total'].hist(bins=30)\n",
    "plt.axvline(streets_by_type_count['Total'].quantile(.68))\n",
    "plt.xlim(0,50)\n",
    "plt.show()"
   ]
  },
  {
   "cell_type": "markdown",
   "metadata": {},
   "source": [
    "We can conclude that streets which have more than 10 establishments are streets with many establishments, and others - few."
   ]
  },
  {
   "cell_type": "code",
   "execution_count": 56,
   "metadata": {},
   "outputs": [
    {
     "name": "stdout",
     "output_type": "stream",
     "text": [
      "Less or 10: 582\n",
      "More than 10: 150\n",
      "More than 10_%: 20%\n"
     ]
    }
   ],
   "source": [
    "# calculate proportion\n",
    "less_10 = streets_by_type_count.query('Total<=10')['Total']\n",
    "more_10 = streets_by_type_count.query('Total>10')['Total']            \n",
    "print(\"Less or 10:\",len(less_10))\n",
    "print(\"More than 10:\",len(more_10))\n",
    "print(\"More than 10_%:\",'{:.0%}'.format(len(more_10)/len(streets_by_type_count['Total'])))"
   ]
  },
  {
   "cell_type": "markdown",
   "metadata": {},
   "source": [
    "From all streets only 20% have more than 10 establishments."
   ]
  },
  {
   "cell_type": "code",
   "execution_count": 57,
   "metadata": {},
   "outputs": [],
   "source": [
    "# list of streets with a lot of establishments\n",
    "more_10_streets = streets_by_type_count.query('Total>10')['street'].unique()"
   ]
  },
  {
   "cell_type": "code",
   "execution_count": 58,
   "metadata": {},
   "outputs": [],
   "source": [
    "# number of seats in establishments on streets from upper mentioned category \n",
    "top_number_seats = data.query('street in @more_10_streets')\n"
   ]
  },
  {
   "cell_type": "code",
   "execution_count": 59,
   "metadata": {},
   "outputs": [
    {
     "data": {
      "image/png": "[encoded data removed]",
      "text/plain": [
       "<Figure size 864x432 with 1 Axes>"
      ]
     },
     "metadata": {
      "needs_background": "light"
     },
     "output_type": "display_data"
    }
   ],
   "source": [
    "# plot a graph with the distribution of seats\n",
    "plt.figure(figsize = (12,6))\n",
    "sns.histplot(top_number_seats['number'], bins='auto')\n",
    "plt.axvline(top_number_seats['number'].median(), color='firebrick', linestyle='dashed', linewidth=2)\n",
    "min_ylim, max_ylim = plt.ylim()\n",
    "plt.text(top_number_seats['number'].median()*1.1, max_ylim*0.92, 'Median: {:.0f}'.format(top_number_seats['number'].median()))\n",
    "plt.xlabel(\"Number of seats\", fontsize=12)\n",
    "plt.ylabel(\"Frequency\",fontsize=12)\n",
    "plt.title('Number of seats in establishments on high competitive streets ', size = 16)\n",
    "plt.savefig('seats_top_streets.png')\n",
    "plt.show()"
   ]
  },
  {
   "cell_type": "markdown",
   "metadata": {},
   "source": [
    "The distribution of the number of seats in establishments located on high comtetitive streets have the same pattern as the overall distribution of seats we saw earlier. But an average number of seat on these top streets is slightly bigger - 27."
   ]
  },
  {
   "cell_type": "code",
   "execution_count": 60,
   "metadata": {},
   "outputs": [],
   "source": [
    "# have a look on distribution of seats in chain and non chain establishments on these streets\n",
    "top_number_seats_chain = data.query('street in @more_10_streets and chain==True')\n",
    "top_number_seats_non_chain = data.query('street in @more_10_streets and chain==False')"
   ]
  },
  {
   "cell_type": "code",
   "execution_count": 61,
   "metadata": {},
   "outputs": [
    {
     "data": {
      "image/png": "[encoded data removed]",
      "text/plain": [
       "<Figure size 864x432 with 1 Axes>"
      ]
     },
     "metadata": {},
     "output_type": "display_data"
    }
   ],
   "source": [
    "# plot a density graph\n",
    "fig, ax = plt.subplots(figsize=(12,6), facecolor='white')\n",
    "sns.distplot(top_number_seats_chain['number'], bins=range(1,top_number_seats['number'].max()))\n",
    "sns.distplot(top_number_seats_non_chain['number'], bins=range(1,top_number_seats['number'].max()))\n",
    "\n",
    "def mjrFormatter(x, pos):\n",
    "    return \"{:.2f}%\".format(x * 100)\n",
    "plt.grid(False, axis='x')\n",
    "plt.grid(axis='y',alpha=.4)\n",
    "plt.xlim(0, top_number_seats['number'].max())\n",
    "ax.xaxis.set_major_locator(ticker.MultipleLocator(10))\n",
    "ax.tick_params(labelsize=10)\n",
    "ax.yaxis.set_major_formatter(ticker.FuncFormatter(mjrFormatter))\n",
    "\n",
    "plt.legend(['Chain', 'Non Chain'], fancybox=True, shadow=True, fontsize=12,facecolor='white')\n",
    "\n",
    "plt.xlabel('Number of Seats', labelpad=12, fontsize=12)\n",
    "plt.ylabel('Density', labelpad=12, fontsize=12)\n",
    "plt.title(\n",
    "    \"Distribution of Seats by chain type on highly competitive streets\",\n",
    "    fontsize=16,\n",
    "    x=-.08,\n",
    "    pad=25,\n",
    "    ha='left',\n",
    "    fontweight='semibold')\n",
    "\n",
    "plt.savefig('seats_dis.png')\n",
    "plt.show()"
   ]
  },
  {
   "cell_type": "markdown",
   "metadata": {},
   "source": [
    "On streets with a large number of establishments there are more chain type establishments with small number of seats in category 'few' seats. But non chain type establishments in this category have larger establishments - 28 seats on average. There are more non chain tipes establishments in category 'many' seats."
   ]
  },
  {
   "cell_type": "markdown",
   "metadata": {},
   "source": [
    "### Conclusion<a id=\"conclusion\"></a> "
   ]
  },
  {
   "cell_type": "markdown",
   "metadata": {},
   "source": [
    "According to market research of restaurant business in Los Angeles, there are more than 9650 establishments, most of them are non chain types - about 62%.  The main market share is occupied by restaurants - over 75%, while cafes have only 4.5%. Moreover 61% are chain type. That means there are good conditions to enter the market with a novelty robot-run cafe: the cafe niche is not as competitive as the restaurants and there is potential for growth to a chain. Chain typed establishments in LA are characterized by a big number of restaurants with a few seats. So the robot-run cafe should not be large, an average size of cafes in LA is about 25 seats.\n",
    "\n",
    "Among all streets in LA which were analyzed (more than 700) only 20% have more than 10 establishments. These streets could be a good choice for a new novelty cafe, as there are a high customer traffic there. But at the same time among these highly competitive streets there are some which have a small number of cafes. It will help to avoid competition with 'big players' among cafe's chains. On the other hand there are streets which have only 1 food type establishmet or don't have cafes at all. \n",
    "\n",
    "To sum up, large share of establishments in LA, especially considering their high persent of non-chain establishments make it relatively easy to compete and thrive given into account the novelty of robot-run service. The company should consider starting off as a non-chain with 25 seats and depending on its strategy, establish itself in a street with many restaurants and/or one restaurant. It can then aggressively grow and establish a chain thereafter given the novelty of service provided. "
   ]
  },
  {
   "cell_type": "markdown",
   "metadata": {},
   "source": [
    "[Go back to the Table of Contents](#table_of_contents)"
   ]
  },
  {
   "cell_type": "markdown",
   "metadata": {},
   "source": [
    "Link to the presentation <a href=\"https://drive.google.com/file/d/1u_FOLWwHCHfvNVuaM_oBv5Uc0N6-ZSMK/view?usp=sharing\">here</a>\n",
    "<a class=\"anchor\" id=\"presentation\"></a> "
   ]
  }
 ],
 "metadata": {
  "kernelspec": {
   "display_name": "Python 3",
   "language": "python",
   "name": "python3"
  },
  "language_info": {
   "codemirror_mode": {
    "name": "ipython",
    "version": 3
   },
   "file_extension": ".py",
   "mimetype": "text/x-python",
   "name": "python",
   "nbconvert_exporter": "python",
   "pygments_lexer": "ipython3",
   "version": "3.7.6"
  },
  "toc": {
   "base_numbering": 1,
   "nav_menu": {},
   "number_sections": true,
   "sideBar": true,
   "skip_h1_title": true,
   "title_cell": "Table of Contents",
   "title_sidebar": "Contents",
   "toc_cell": false,
   "toc_position": {},
   "toc_section_display": true,
   "toc_window_display": false
  }
 },
 "nbformat": 4,
 "nbformat_minor": 2
}
